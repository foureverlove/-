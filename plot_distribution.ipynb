{
 "cells": [
  {
   "cell_type": "code",
   "execution_count": 1,
   "id": "d2c75002",
   "metadata": {},
   "outputs": [],
   "source": [
    "import pandas as pd\n",
    "import copy\n",
    "import xlwings as xw\n",
    "import matplotlib.pyplot as plt\n",
    "from datetime import datetime, timedelta\n",
    "from data_process import get_csv_files\n",
    "import warnings\n",
    "from tqdm import tqdm\n",
    "import os"
   ]
  },
  {
   "cell_type": "code",
   "execution_count": 2,
   "id": "6d4ada49",
   "metadata": {},
   "outputs": [],
   "source": [
    "warnings.filterwarnings('ignore')\n",
    "file_path = './data/data'\n",
    "files = get_csv_files(file_path)"
   ]
  },
  {
   "cell_type": "code",
   "execution_count": 3,
   "id": "6e2c82ed",
   "metadata": {},
   "outputs": [],
   "source": [
    "class ChipDistribution():\n",
    "\n",
    "    def __init__(self):\n",
    "        self.Chip = {} # 当前获利盘\n",
    "        self.ChipList = {}  # 所有的获利盘的\n",
    "\n",
    "    def get_data(self,file):\n",
    "        self.data = pd.read_csv(file,encoding = \"utf-8\")\n",
    "    def calcuJUN(self,dateT,highT, lowT, volT, TurnoverRateT, A, minD):\n",
    "\n",
    "        x =[]\n",
    "        l = (highT - lowT) / minD\n",
    "        for i in range(int(l)):\n",
    "            x.append(round(lowT + i * minD, 2))\n",
    "        length = len(x)\n",
    "        eachV = volT/length\n",
    "        for i in self.Chip:\n",
    "            self.Chip[i] = self.Chip[i] *(1 -TurnoverRateT * A)\n",
    "        for i in x:\n",
    "            if i in self.Chip:\n",
    "                self.Chip[i] += eachV *(TurnoverRateT * A)\n",
    "            else:\n",
    "                self.Chip[i] = eachV *(TurnoverRateT * A)\n",
    "        import copy\n",
    "        self.ChipList[dateT] = copy.deepcopy(self.Chip)\n",
    "\n",
    "\n",
    "\n",
    "    #按成交量分布计算\n",
    "    def calcuSin(self,dateT,highT, lowT,avgT, volT,TurnoverRateT,minD,A):\n",
    "        x =[]\n",
    "\n",
    "        l = (highT - lowT) / minD\n",
    "        for i in range(int(l)):\n",
    "            x.append(round(lowT + i * minD, 2))\n",
    "\n",
    "        length = len(x)\n",
    "\n",
    "        #计算仅仅今日的筹码分布\n",
    "        tmpChip = {}\n",
    "        eachV = volT/length\n",
    "\n",
    "\n",
    "        #极限法分割去逼近\n",
    "        for i in x:\n",
    "            x1 = i\n",
    "            x2 = i + minD\n",
    "            h = 2 / (highT - lowT)\n",
    "            s= 0\n",
    "            if i < avgT:\n",
    "                y1 = h /(avgT - lowT) * (x1 - lowT)\n",
    "                y2 = h /(avgT - lowT) * (x2 - lowT)\n",
    "                s = minD *(y1 + y2) /2\n",
    "                s = s * volT\n",
    "            else:\n",
    "                y1 = h /(highT - avgT) *(highT - x1)\n",
    "                y2 = h /(highT - avgT) *(highT - x2)\n",
    "\n",
    "                s = minD *(y1 + y2) /2\n",
    "                s = s * volT\n",
    "            tmpChip[i] = s\n",
    "\n",
    "\n",
    "        for i in self.Chip:\n",
    "            self.Chip[i] = self.Chip[i] *(1 -TurnoverRateT * A)\n",
    "\n",
    "        for i in tmpChip:\n",
    "            if i in self.Chip:\n",
    "                self.Chip[i] += tmpChip[i] *(TurnoverRateT * A)\n",
    "            else:\n",
    "                self.Chip[i] = tmpChip[i] *(TurnoverRateT * A)\n",
    "        \n",
    "        self.ChipList[dateT] = copy.deepcopy(self.Chip)\n",
    "\n",
    "\n",
    "    def calcu(self,dateT,highT, lowT,avgT, volT, TurnoverRateT,minD = 0.01, flag=1 , AC=1):\n",
    "        if flag ==1:\n",
    "            self.calcuSin(dateT,highT, lowT,avgT, volT, TurnoverRateT,A=AC, minD=minD)\n",
    "        elif flag ==2:\n",
    "            self.calcuJUN(dateT,highT, lowT, volT, TurnoverRateT, A=AC, minD=minD)\n",
    "\n",
    "    def calcuChip(self, flag=1, AC=1):  #flag 使用哪个计算方式,    AC 衰减系数\n",
    "        low = self.data['low']\n",
    "        high = self.data['high']\n",
    "        vol = self.data['volume']\n",
    "        TurnoverRate = self.data['TurnoverRate']\n",
    "        avg = self.data['avg']\n",
    "        date = self.data['trade_date']\n",
    "\n",
    "        for i in range(len(date)):\n",
    "        #     if i < 90:\n",
    "        #         continue\n",
    "\n",
    "            highT = high[i]\n",
    "            lowT = low[i]\n",
    "            volT = vol[i]\n",
    "            TurnoverRateT = TurnoverRate[i]\n",
    "            avgT = avg[i]\n",
    "            # print(date[i])\n",
    "            dateT = date[i]\n",
    "            self.calcu(dateT,highT, lowT,avgT, volT, TurnoverRateT/100, flag=flag, AC=AC)  \n",
    "        # 计算winner\n",
    "    def winner(self,p=None):\n",
    "            Profit = []\n",
    "            date = self.data['trade_date']\n",
    "\n",
    "            if p == None:  # 不输入默认close\n",
    "                p = self.data['close']\n",
    "                count = 0\n",
    "                for i in self.ChipList:\n",
    "                    # 计算目前的比例\n",
    "\n",
    "                    Chip = self.ChipList[i]\n",
    "                    total = 0\n",
    "                    be = 0\n",
    "                    for i in Chip:\n",
    "                        total += Chip[i]\n",
    "                        if i < p[count]:\n",
    "                            be += Chip[i]\n",
    "                    if total != 0:\n",
    "                        bili = be / total\n",
    "                    else:\n",
    "                        bili = 0\n",
    "                    count += 1\n",
    "                    Profit.append(bili)\n",
    "            else:\n",
    "                for i in self.ChipList:\n",
    "                    # 计算目前的比例\n",
    "\n",
    "                    Chip = self.ChipList[i]\n",
    "                    total = 0\n",
    "                    be = 0\n",
    "                    for i in Chip:\n",
    "                        total += Chip[i]\n",
    "                        if i < p:\n",
    "                            be += Chip[i]\n",
    "                    if total != 0:\n",
    "                        bili = be / total\n",
    "                    else:\n",
    "                        bili = 0\n",
    "                    Profit.append(bili)\n",
    "\n",
    "            #import matplotlib.pyplot as plt\n",
    "            #plt.plot(date[len(date) - 200:-1], Profit[len(date) - 200:-1])\n",
    "            #plt.show()\n",
    "\n",
    "            return Profit\n",
    "\n",
    "    #计算多少天数据,默认为20\n",
    "    def lwinner(self,N = 20, p=None):\n",
    "\n",
    "        data = copy.deepcopy(self.data)\n",
    "        date = data['trade_date']\n",
    "        ans = []\n",
    "        for i in range(len(date)):\n",
    "            #print(date[i])\n",
    "            if i < N:\n",
    "                ans.append(None)\n",
    "                continue\n",
    "            self.data = data[i-N:i]\n",
    "            self.data.index= range(0,N)\n",
    "            self.__init__()\n",
    "            self.calcuChip()    #使用默认计算方式\n",
    "            a = self.winner(p)\n",
    "            ans.append(a[-1])\n",
    "        #import matplotlib.pyplot as plt\n",
    "        #plt.plot(date[len(date) - 100:-1], ans[len(date) - 100:-1])\n",
    "        #plt.show()\n",
    "\n",
    "        self.data = data\n",
    "        return ans\n",
    "\n",
    "\n",
    "\n",
    "    def cost(self,N):\n",
    "        date = self.data['trade_date']\n",
    "\n",
    "        N = N / 100  # 转换成百分比\n",
    "        ans = []\n",
    "        for i in self.ChipList:  \n",
    "            Chip = self.ChipList[i]\n",
    "            ChipKey = sorted(Chip.keys())  # 排序\n",
    "            total = 0  # 当前比例\n",
    "            sumOf = 0  # 所有筹码的总和\n",
    "            for j in Chip:\n",
    "                sumOf += Chip[j]\n",
    "\n",
    "            for j in ChipKey:\n",
    "                tmp = Chip[j]\n",
    "                tmp = tmp / sumOf\n",
    "                total += tmp\n",
    "                if total > N:\n",
    "                    ans.append(j)\n",
    "                    break\n",
    "        \n",
    "        #plt.plot(date[len(date) - 1000:-1], ans[len(date) - 1000:-1])\n",
    "        #plt.show()\n",
    "        \n",
    "        return ans\n",
    "    \n",
    "    def cal_factor(self,lower_bound,upper_bound):\n",
    "        factors = {} \n",
    "        date = self.data['trade_date']\n",
    "        for i in self.ChipList.keys(): \n",
    "            Chip = self.ChipList[i]\n",
    "            price_series = self.data.loc[date == i, 'close']\n",
    "            if price_series.empty:\n",
    "                continue  # 如果没有找到价格，跳过当前日期\n",
    "            price = price_series.iloc[0]\n",
    "            ChipKey = sorted(Chip.keys())  # 排序\n",
    "            total = 0  \n",
    "            sumOf = sum(Chip[j] for j in Chip)\n",
    "            \n",
    "            for j in ChipKey:\n",
    "                if (j-price) <= price * upper_bound and (j-price) >= price * lower_bound:\n",
    "                    total += Chip[j]\n",
    "            if sumOf != 0:\n",
    "                factors[i] = total/sumOf\n",
    "            else:\n",
    "                if factors:\n",
    "                    factors[i] = list(factors.values())[-1].copy()\n",
    "        return factors\n"
   ]
  },
  {
   "cell_type": "code",
   "execution_count": null,
   "id": "9340a1db",
   "metadata": {},
   "outputs": [
    {
     "name": "stderr",
     "output_type": "stream",
     "text": [
      "\r",
      "0it [00:00, ?it/s]"
     ]
    },
    {
     "name": "stdout",
     "output_type": "stream",
     "text": [
      "./data/data\\600008_processed.csv.png\n"
     ]
    },
    {
     "name": "stderr",
     "output_type": "stream",
     "text": [
      "2it [00:59, 32.49s/it]"
     ]
    },
    {
     "name": "stdout",
     "output_type": "stream",
     "text": [
      "./data/data\\600009_processed.csv.png\n"
     ]
    },
    {
     "name": "stderr",
     "output_type": "stream",
     "text": [
      "\r",
      "3it [01:01, 18.93s/it]"
     ]
    },
    {
     "name": "stdout",
     "output_type": "stream",
     "text": [
      "./data/data\\600010_processed.csv.png\n"
     ]
    },
    {
     "name": "stderr",
     "output_type": "stream",
     "text": [
      "\r",
      "4it [01:07, 13.57s/it]"
     ]
    },
    {
     "name": "stdout",
     "output_type": "stream",
     "text": [
      "./data/data\\600011_processed.csv.png\n"
     ]
    },
    {
     "name": "stderr",
     "output_type": "stream",
     "text": [
      "\r",
      "5it [01:12, 10.70s/it]"
     ]
    },
    {
     "name": "stdout",
     "output_type": "stream",
     "text": [
      "./data/data\\600012_processed.csv.png\n",
      "./data/data\\600015_processed.csv.png\n"
     ]
    },
    {
     "name": "stderr",
     "output_type": "stream",
     "text": [
      "7it [01:20,  6.70s/it]"
     ]
    },
    {
     "name": "stdout",
     "output_type": "stream",
     "text": [
      "./data/data\\600016_processed.csv.png\n"
     ]
    },
    {
     "name": "stderr",
     "output_type": "stream",
     "text": [
      "\r",
      "8it [01:22,  5.25s/it]"
     ]
    },
    {
     "name": "stdout",
     "output_type": "stream",
     "text": [
      "./data/data\\600017_processed.csv.png\n"
     ]
    },
    {
     "name": "stderr",
     "output_type": "stream",
     "text": [
      "\r",
      "9it [01:27,  5.24s/it]"
     ]
    },
    {
     "name": "stdout",
     "output_type": "stream",
     "text": [
      "./data/data\\600018_processed.csv.png\n"
     ]
    },
    {
     "name": "stderr",
     "output_type": "stream",
     "text": [
      "\r",
      "10it [01:33,  5.54s/it]"
     ]
    },
    {
     "name": "stdout",
     "output_type": "stream",
     "text": [
      "./data/data\\600019_processed.csv.png\n"
     ]
    },
    {
     "name": "stderr",
     "output_type": "stream",
     "text": [
      "\r",
      "11it [01:38,  5.30s/it]"
     ]
    },
    {
     "name": "stdout",
     "output_type": "stream",
     "text": [
      "./data/data\\600020_processed.csv.png\n"
     ]
    },
    {
     "name": "stderr",
     "output_type": "stream",
     "text": [
      "\r",
      "12it [01:45,  5.91s/it]"
     ]
    },
    {
     "name": "stdout",
     "output_type": "stream",
     "text": [
      "./data/data\\600021_processed.csv.png\n"
     ]
    },
    {
     "name": "stderr",
     "output_type": "stream",
     "text": [
      "\r",
      "13it [01:47,  4.71s/it]"
     ]
    },
    {
     "name": "stdout",
     "output_type": "stream",
     "text": [
      "./data/data\\600022_processed.csv.png\n"
     ]
    },
    {
     "name": "stderr",
     "output_type": "stream",
     "text": [
      "\r",
      "14it [01:50,  4.12s/it]"
     ]
    },
    {
     "name": "stdout",
     "output_type": "stream",
     "text": [
      "./data/data\\600023_processed.csv.png\n"
     ]
    },
    {
     "name": "stderr",
     "output_type": "stream",
     "text": [
      "\r",
      "15it [01:55,  4.44s/it]"
     ]
    },
    {
     "name": "stdout",
     "output_type": "stream",
     "text": [
      "./data/data\\600025_processed.csv.png\n"
     ]
    },
    {
     "name": "stderr",
     "output_type": "stream",
     "text": [
      "\r",
      "16it [02:05,  6.16s/it]"
     ]
    },
    {
     "name": "stdout",
     "output_type": "stream",
     "text": [
      "./data/data\\600026_processed.csv.png\n"
     ]
    },
    {
     "name": "stderr",
     "output_type": "stream",
     "text": [
      "\r",
      "17it [02:09,  5.39s/it]"
     ]
    },
    {
     "name": "stdout",
     "output_type": "stream",
     "text": [
      "./data/data\\600027_processed.csv.png\n"
     ]
    },
    {
     "name": "stderr",
     "output_type": "stream",
     "text": [
      "\r",
      "18it [02:12,  4.77s/it]"
     ]
    },
    {
     "name": "stdout",
     "output_type": "stream",
     "text": [
      "./data/data\\600028_processed.csv.png\n"
     ]
    },
    {
     "name": "stderr",
     "output_type": "stream",
     "text": [
      "\r",
      "19it [02:17,  4.81s/it]"
     ]
    },
    {
     "name": "stdout",
     "output_type": "stream",
     "text": [
      "./data/data\\600029_processed.csv.png\n"
     ]
    },
    {
     "name": "stderr",
     "output_type": "stream",
     "text": [
      "\r",
      "20it [02:33,  8.26s/it]"
     ]
    },
    {
     "name": "stdout",
     "output_type": "stream",
     "text": [
      "./data/data\\600030_processed.csv.png\n"
     ]
    },
    {
     "name": "stderr",
     "output_type": "stream",
     "text": [
      "\r",
      "21it [03:05, 15.39s/it]"
     ]
    },
    {
     "name": "stdout",
     "output_type": "stream",
     "text": [
      "./data/data\\600031_processed.csv.png\n"
     ]
    },
    {
     "name": "stderr",
     "output_type": "stream",
     "text": [
      "\r",
      "22it [03:14, 13.26s/it]"
     ]
    },
    {
     "name": "stdout",
     "output_type": "stream",
     "text": [
      "./data/data\\600032_processed.csv.png\n"
     ]
    },
    {
     "name": "stderr",
     "output_type": "stream",
     "text": [
      "\r",
      "23it [03:15,  9.85s/it]"
     ]
    },
    {
     "name": "stdout",
     "output_type": "stream",
     "text": [
      "./data/data\\600033_processed.csv.png\n"
     ]
    },
    {
     "name": "stderr",
     "output_type": "stream",
     "text": [
      "\r",
      "24it [03:18,  7.64s/it]"
     ]
    },
    {
     "name": "stdout",
     "output_type": "stream",
     "text": [
      "./data/data\\600035_processed.csv.png\n",
      "./data/data\\600036_processed.csv.png\n"
     ]
    },
    {
     "name": "stderr",
     "output_type": "stream",
     "text": [
      "26it [03:56, 12.59s/it]"
     ]
    },
    {
     "name": "stdout",
     "output_type": "stream",
     "text": [
      "./data/data\\600037_processed.csv.png\n",
      "./data/data\\600038_processed.csv.png\n"
     ]
    },
    {
     "name": "stderr",
     "output_type": "stream",
     "text": [
      "\r",
      "27it [04:34, 20.09s/it]"
     ]
    },
    {
     "name": "stdout",
     "output_type": "stream",
     "text": [
      "./data/data\\600039_processed.csv.png\n"
     ]
    },
    {
     "name": "stderr",
     "output_type": "stream",
     "text": [
      "29it [04:51, 14.39s/it]"
     ]
    },
    {
     "name": "stdout",
     "output_type": "stream",
     "text": [
      "./data/data\\600048_processed.csv.png\n",
      "./data/data\\600050_processed.csv.png\n"
     ]
    },
    {
     "name": "stderr",
     "output_type": "stream",
     "text": [
      "\r",
      "30it [04:56, 11.42s/it]"
     ]
    },
    {
     "name": "stdout",
     "output_type": "stream",
     "text": [
      "./data/data\\600051_processed.csv.png\n"
     ]
    },
    {
     "name": "stderr",
     "output_type": "stream",
     "text": [
      "\r",
      "31it [05:04, 10.55s/it]"
     ]
    },
    {
     "name": "stdout",
     "output_type": "stream",
     "text": [
      "./data/data\\600052_processed.csv.png\n"
     ]
    },
    {
     "name": "stderr",
     "output_type": "stream",
     "text": [
      "\r",
      "32it [05:09,  8.84s/it]"
     ]
    },
    {
     "name": "stdout",
     "output_type": "stream",
     "text": [
      "./data/data\\600053_processed.csv.png\n"
     ]
    },
    {
     "name": "stderr",
     "output_type": "stream",
     "text": [
      "34it [05:38, 10.99s/it]"
     ]
    },
    {
     "name": "stdout",
     "output_type": "stream",
     "text": [
      "./data/data\\600054_processed.csv.png\n"
     ]
    },
    {
     "name": "stderr",
     "output_type": "stream",
     "text": [
      "\r",
      "35it [05:58, 13.64s/it]"
     ]
    },
    {
     "name": "stdout",
     "output_type": "stream",
     "text": [
      "./data/data\\600055_processed.csv.png\n"
     ]
    },
    {
     "name": "stderr",
     "output_type": "stream",
     "text": [
      "\r",
      "36it [06:17, 15.35s/it]"
     ]
    },
    {
     "name": "stdout",
     "output_type": "stream",
     "text": [
      "./data/data\\600056_processed.csv.png\n",
      "./data/data\\600057_processed.csv.png\n"
     ]
    },
    {
     "name": "stderr",
     "output_type": "stream",
     "text": [
      "\r",
      "37it [06:24, 12.94s/it]"
     ]
    },
    {
     "name": "stdout",
     "output_type": "stream",
     "text": [
      "./data/data\\600058_processed.csv.png\n"
     ]
    },
    {
     "name": "stderr",
     "output_type": "stream",
     "text": [
      "\r",
      "38it [06:33, 11.47s/it]"
     ]
    },
    {
     "name": "stdout",
     "output_type": "stream",
     "text": [
      "./data/data\\600059_processed.csv.png\n"
     ]
    },
    {
     "name": "stderr",
     "output_type": "stream",
     "text": [
      "\r",
      "39it [06:43, 11.27s/it]"
     ]
    },
    {
     "name": "stdout",
     "output_type": "stream",
     "text": [
      "./data/data\\600060_processed.csv.png\n"
     ]
    },
    {
     "name": "stderr",
     "output_type": "stream",
     "text": [
      "\r",
      "40it [06:56, 11.61s/it]"
     ]
    },
    {
     "name": "stdout",
     "output_type": "stream",
     "text": [
      "./data/data\\600061_processed.csv.png\n"
     ]
    },
    {
     "name": "stderr",
     "output_type": "stream",
     "text": [
      "\r",
      "41it [07:06, 11.33s/it]"
     ]
    },
    {
     "name": "stdout",
     "output_type": "stream",
     "text": [
      "./data/data\\600062_processed.csv.png\n"
     ]
    },
    {
     "name": "stderr",
     "output_type": "stream",
     "text": [
      "\r",
      "42it [07:22, 12.53s/it]"
     ]
    },
    {
     "name": "stdout",
     "output_type": "stream",
     "text": [
      "./data/data\\600063_processed.csv.png\n"
     ]
    },
    {
     "name": "stderr",
     "output_type": "stream",
     "text": [
      "\r",
      "43it [07:29, 10.88s/it]"
     ]
    }
   ],
   "source": [
    "\n",
    "files = get_csv_files(file_path)\n",
    "\n",
    "def plot_chip(data,file,date,i):\n",
    "    specific_date = date\n",
    "    date_data = data[specific_date]\n",
    "\n",
    "    # 提取价格和对应的值\n",
    "    prices = list(date_data.keys())\n",
    "    counts = list(date_data.values())\n",
    "\n",
    "    # 绘制直方图\n",
    "    plt.figure(figsize=(6, 3))  # 设置图形大小\n",
    "    plt.hist(prices, weights=counts, bins=len(prices), alpha=0.75,density=True)\n",
    "\n",
    "    # 添加标题和标签\n",
    "    plt.title(f'Distribution on {specific_date}')\n",
    "    plt.xlabel('Price')\n",
    "    plt.ylabel('Counts')\n",
    "    \n",
    "    img_path = f'{file}.png'\n",
    "    plt.savefig(img_path)\n",
    "    plt.close()\n",
    "\n",
    "    # 尝试打开或创建Excel文件\n",
    "    excel_file = './data/data/png/2024-07-01.xlsx'\n",
    "    wb = xw.Book(excel_file)\n",
    "    sht = wb.sheets['Sheet1']\n",
    "    # 插入图片到工作表\n",
    "    left = 10  # 距离单元格左侧的距离\n",
    "    top = 10   # 距离单元格顶部的距离\n",
    "    print(img_path)\n",
    "    try:\n",
    "        sht.pictures.add(os.path.abspath(img_path), name=f'MyPicture{i+1}', left=sht.range('C5').left + left*100*i, top=sht.range('C5').top + top*i*100, update=True)\n",
    "        wb.save('./data/data/png/2024-07-01.xlsx')\n",
    "        wb.close()\n",
    "    except Exception as e:\n",
    "        print(f\"插入图片时发生错误: {e}\")  \n",
    "\n",
    "    plt.show()\n",
    "    \n",
    "for i,file in tqdm(enumerate(files)):    \n",
    "    a=ChipDistribution()\n",
    "    a.get_data(file)     \n",
    "    a.calcuChip(flag=1, AC=1) #计算\n",
    "    a.winner() #获利盘\n",
    "    a.cost(90) #成本分布\n",
    "    a.lwinner(N=1600)\n",
    "    \n",
    "    data = a.ChipList\n",
    "    plot_chip(data,file,'2024-07-01',i)\n",
    "    "
   ]
  },
  {
   "cell_type": "code",
   "execution_count": null,
   "id": "ff59874a",
   "metadata": {},
   "outputs": [],
   "source": []
  }
 ],
 "metadata": {
  "kernelspec": {
   "display_name": "Python 3 (ipykernel)",
   "language": "python",
   "name": "python3"
  },
  "language_info": {
   "codemirror_mode": {
    "name": "ipython",
    "version": 3
   },
   "file_extension": ".py",
   "mimetype": "text/x-python",
   "name": "python",
   "nbconvert_exporter": "python",
   "pygments_lexer": "ipython3",
   "version": "3.11.5"
  }
 },
 "nbformat": 4,
 "nbformat_minor": 5
}
