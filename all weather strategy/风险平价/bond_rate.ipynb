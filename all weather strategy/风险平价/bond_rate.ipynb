{
 "cells": [
  {
   "cell_type": "code",
   "execution_count": 1,
   "id": "c2ca161e",
   "metadata": {},
   "outputs": [],
   "source": [
    "import tushare as ts\n",
    "import pandas as pd \n",
    "ts.set_token('6ddb307225c1b26eaabecc4e76561c9305d5bcad10bb6b882a3e63df')\n",
    "pro = ts.pro_api()\n",
    "start_dt = '20120101'\n",
    "end_dt = '20240701'\n",
    "test_dt = '20120601'"
   ]
  },
  {
   "cell_type": "code",
   "execution_count": 2,
   "id": "48f19e03",
   "metadata": {},
   "outputs": [],
   "source": [
    "df = pro.repo_daily(ts_code = 'DR007.IB',start_date = start_dt,end_date = end_dt)"
   ]
  },
  {
   "cell_type": "code",
   "execution_count": 3,
   "id": "0341071a",
   "metadata": {},
   "outputs": [],
   "source": [
    "df.to_csv('bond_rate.csv')"
   ]
  },
  {
   "cell_type": "code",
   "execution_count": 4,
   "id": "619a6c04",
   "metadata": {},
   "outputs": [],
   "source": [
    "bond_rate = pd.read_csv('bond_rate.csv')\n",
    "bond_rate = bond_rate.set_index('trade_date')\n",
    "bond_rate = bond_rate['close']"
   ]
  },
  {
   "cell_type": "code",
   "execution_count": 5,
   "id": "8adf9d41",
   "metadata": {},
   "outputs": [],
   "source": [
    "bond_rate = bond_rate[::-1]"
   ]
  },
  {
   "cell_type": "code",
   "execution_count": 6,
   "id": "f506e506",
   "metadata": {},
   "outputs": [],
   "source": [
    "trade_cal_SSE = pro.trade_cal(exchange='SSE', start_date=test_dt, end_date=end_dt, is_open=1)\n",
    "trade_date = trade_cal_SSE['cal_date']\n",
    "trade_date = trade_date[::-1]\n",
    "trade_date.to_csv('trade_dates.csv', index=False)\n",
    "trade_date = pd.read_csv('trade_dates.csv')\n",
    "trade_date = trade_date['cal_date'].astype(str)\n",
    "bond_rate.index = pd.to_datetime(bond_rate.index,format = '%Y%m%d')\n",
    "trade_date = pd.to_datetime(trade_date)\n",
    "# 使用 trade_date 重新索引 bond_rate，并使用 ffill 填充缺失值\n",
    "bond_rate = bond_rate.reindex(trade_date, method='ffill')\n"
   ]
  },
  {
   "cell_type": "code",
   "execution_count": 7,
   "id": "ade73f91",
   "metadata": {},
   "outputs": [
    {
     "data": {
      "text/plain": [
       "cal_date\n",
       "2012-06-01     NaN\n",
       "2012-06-04     NaN\n",
       "2012-06-05     NaN\n",
       "2012-06-06     NaN\n",
       "2012-06-07     NaN\n",
       "              ... \n",
       "2024-06-25    2.07\n",
       "2024-06-26    1.97\n",
       "2024-06-27    2.18\n",
       "2024-06-28    2.17\n",
       "2024-07-01    1.75\n",
       "Name: close, Length: 2936, dtype: float64"
      ]
     },
     "execution_count": 7,
     "metadata": {},
     "output_type": "execute_result"
    }
   ],
   "source": [
    "bond_rate"
   ]
  },
  {
   "cell_type": "code",
   "execution_count": 8,
   "id": "8ecad1f5",
   "metadata": {},
   "outputs": [
    {
     "data": {
      "text/plain": [
       "cal_date\n",
       "2020-08-03    0.000047\n",
       "Name: close, dtype: float64"
      ]
     },
     "execution_count": 8,
     "metadata": {},
     "output_type": "execute_result"
    }
   ],
   "source": [
    "free_rate = bond_rate[bond_rate.index == '20200803']/36000\n",
    "free_rate"
   ]
  },
  {
   "cell_type": "code",
   "execution_count": null,
   "id": "1d8113bf",
   "metadata": {},
   "outputs": [],
   "source": []
  }
 ],
 "metadata": {
  "kernelspec": {
   "display_name": "Python 3 (ipykernel)",
   "language": "python",
   "name": "python3"
  },
  "language_info": {
   "codemirror_mode": {
    "name": "ipython",
    "version": 3
   },
   "file_extension": ".py",
   "mimetype": "text/x-python",
   "name": "python",
   "nbconvert_exporter": "python",
   "pygments_lexer": "ipython3",
   "version": "3.11.5"
  }
 },
 "nbformat": 4,
 "nbformat_minor": 5
}
