{
 "cells": [
  {
   "cell_type": "code",
   "execution_count": 9,
   "id": "88d198c5",
   "metadata": {},
   "outputs": [],
   "source": [
    "import numpy as np\n",
    "from scipy.optimize import minimize\n",
    "import pandas as pd\n",
    "from numba import jit\n",
    "from datetime import timedelta\n",
    "from tqdm.auto import tqdm\n",
    "from backtest_utils import *\n",
    "import matplotlib.dates as mdates\n",
    "import copy\n",
    "\n",
    "# 示例数据：预期收益和协方差矩阵\n",
    "\n"
   ]
  },
  {
   "cell_type": "code",
   "execution_count": 10,
   "id": "c4c7597a",
   "metadata": {},
   "outputs": [],
   "source": [
    "start_dt = '20190101'\n",
    "end_dt = '20240701'\n",
    "test_dt = '20200101'\n",
    "vol_day = 90\n",
    "trade_date = pd.read_csv('trade_dates.csv')\n",
    "trade_date = trade_date['cal_date'].astype(str)\n",
    "data = pd.read_csv('etf.csv')\n",
    "data = data.sort_values(by = ['ts_code','trade_date'],ascending = True)\n",
    "bond_rate = pd.read_csv('bond_rate.csv')\n",
    "bond_rate = bond_rate.set_index('trade_date')\n",
    "bond_rate = bond_rate['close']\n",
    "bond_rate.index = pd.to_datetime(bond_rate.index,format = '%Y%m%d')\n",
    "bond_rate = bond_rate.reindex(trade_date, method='ffill')\n",
    "\n"
   ]
  },
  {
   "cell_type": "code",
   "execution_count": 11,
   "id": "473cd85c",
   "metadata": {},
   "outputs": [],
   "source": [
    "def calculate_daily_returns(leverage_list,df, date_stocks,date_weights,initial_capital, fee_rate,deviate_rate,bond_rate,trade_date):\n",
    "    #date_stocks: 每天买入的股票 type字典\n",
    "    #df 每天股市各股票基本信息\n",
    "\n",
    "    net_value = initial_capital\n",
    "    net_values = []  # 初始净值\n",
    "    daily_returns = []\n",
    "    expected_holdings = []\n",
    "    actual_holdings = []\n",
    "    position_change = []\n",
    "    holdings_diffs = []\n",
    "    stock_earnings = []\n",
    "    stock_earning = []\n",
    "    \n",
    "    df['trade_date'] = pd.to_datetime(df['trade_date'], format='%Y%m%d')\n",
    "    fixed_trade_date =pd.to_datetime(trade_date[0])\n",
    "    df = df.set_index([\"ts_code\",\"trade_date\"])\n",
    "    df = df[\"pct_chg\"]/100\n",
    "    position = 0\n",
    "    \n",
    "    for date, stock_list in tqdm(date_stocks.items(), desc=\"计算日收益\"):\n",
    "            free_rate = float((bond_rate[bond_rate.index == date].iloc[0] / 25200))\n",
    "\n",
    "            return_list = []\n",
    "            #判断持仓是否为空\n",
    "            if len(actual_holdings) == 0:\n",
    "                actual_holdings = date_weights[date]\n",
    "\n",
    "            #利用风险平价计算的持仓\n",
    "            expected_holdings = date_weights[date]\n",
    "\n",
    "            #持仓的日收益率    \n",
    "            for stock in stock_list: \n",
    "                \n",
    "                if (stock, date) in df.index:\n",
    "\n",
    "                    return_ = float(df.loc[(stock, date)]- free_rate)\n",
    "                    return_list.append(return_)\n",
    "\n",
    "                else: \n",
    "                    return_ = 0 - free_rate\n",
    "                    return_list.append(return_)\n",
    "\n",
    "\n",
    "\n",
    "            multiplied_result =np.array(leverage_list) * np.array(return_list)\n",
    "            free_rate_array = np.full_like(multiplied_result, free_rate)\n",
    "            return_list = multiplied_result + free_rate_array\n",
    "            return_list = return_list.tolist()\n",
    "            \n",
    "            \n",
    "            if stock_earning is None or len(stock_earning) == 0:\n",
    "                stock_earning = np.zeros(len(return_list))\n",
    "            if not np.isfinite(net_value):\n",
    "                raise ValueError(\"net value is not finite\")\n",
    "\n",
    "            if not np.all(np.isfinite(return_list)) or not np.all(np.isfinite(actual_holdings)):\n",
    "                raise ValueError(\"Return list or actual holdings contain non-finite values\")\n",
    "                \n",
    "            stock_earning += net_value * np.array(return_list) * np.array(actual_holdings)\n",
    "            stock_earnings.append(stock_earning.copy())\n",
    "            \n",
    "            #判断是否调整持仓 0不换 1换\n",
    "            for i in range(len(expected_holdings)):\n",
    "                diff_holding = actual_holdings[i]-expected_holdings[i]\n",
    "                if abs(diff_holding)<= deviate_rate and pd.to_datetime(date) <= fixed_trade_date :\n",
    "\n",
    "                    position = 0\n",
    "\n",
    "                else:\n",
    "                    position = 1\n",
    "                    fixed_trade_date = pd.to_datetime(date) + timedelta(days = 60)\n",
    "                    break\n",
    "\n",
    "            holdings_diff = [actual - expected for actual,expected in zip(actual_holdings,expected_holdings)]\n",
    "            holdings_diffs.append(holdings_diff)\n",
    "            \n",
    "            \n",
    "            if position == 1:\n",
    "                #print(f\"{date}需要调整持仓\")\n",
    "                position_change.append(date)\n",
    "                #计算持仓比例变化与交易费用\n",
    "\n",
    "\n",
    "                abs_list = list(map(abs, holdings_diff))\n",
    "                transaction_cost = sum(abs_list)* net_value * fee_rate\n",
    "                net_value -= transaction_cost\n",
    "                actual_holdings = copy.deepcopy(expected_holdings)\n",
    "\n",
    "\n",
    "                adjusted_returns = [1 + returns for returns in return_list]                            \n",
    "                # 计算新的净值\n",
    "                new_values = [net_value * actual * adjusted_return for actual,adjusted_return in zip(actual_holdings,adjusted_returns)]\n",
    "                #print(f'改日净值为：{np.sum(new_values) - net_value}')\n",
    "                returns = np.sum(new_values)/net_value - 1\n",
    "                daily_returns.append(float(returns))\n",
    "                net_value = np.sum(new_values)\n",
    "                actual_holdings = new_values/np.sum(new_values) \n",
    "                net_values.append(net_value)\n",
    "\n",
    "            elif position == 0 :\n",
    "                #print(f\"{date}不需要调整持仓\")\n",
    "\n",
    "                #计算\n",
    "                adjusted_returns = [1 + returns for returns in return_list]     \n",
    "                # 计算新的净值\n",
    "                new_values = [net_value * actual * adjusted_return for actual,adjusted_return in zip(actual_holdings,adjusted_returns)]\n",
    "                #print(np.sum(new_values) - net_value)\n",
    "                returns = np.sum(new_values)/net_value - 1\n",
    "                daily_returns.append(float(returns))\n",
    "                net_value = np.sum(new_values)\n",
    "                actual_holdings = new_values/np.sum(new_values)\n",
    "                net_values.append(net_value)\n",
    "\n",
    "            if len(leverage_list) != len(stock_list):\n",
    "                position = 1\n",
    "                \n",
    "    return daily_returns,net_values,position_change,holdings_diffs,stock_earnings,stock_list"
   ]
  },
  {
   "cell_type": "code",
   "execution_count": 12,
   "id": "d813d1d9",
   "metadata": {},
   "outputs": [],
   "source": [
    "def calculate_vol(data,leverage_list,trade_date,vol_day): \n",
    "    data['trade_date'] = pd.to_datetime(data['trade_date'], format='%Y%m%d')\n",
    "    codes = sorted(list(set(data['ts_code'])))\n",
    "    print(codes)\n",
    "    dates = trade_date\n",
    "    data_stock = data['ts_code']\n",
    "    data_date = pd.to_datetime(data['trade_date']) \n",
    "    \n",
    "    for i,code in enumerate(codes):\n",
    "        for date in dates:\n",
    "            one_year_ago = str(pd.to_datetime(date) - timedelta(days= vol_day))\n",
    "            mask = (data_stock == code) & (data_date >= one_year_ago) & (data_date < date)\n",
    "            daily_returns = data.loc[mask,\"pct_chg\"].fillna(0)\n",
    "        \n",
    "            data.loc[(data_stock == code) & (data_date == date), 'pct_chg'] *= leverage_list[i]\n",
    "                \n",
    "    return data,codes"
   ]
  },
  {
   "cell_type": "code",
   "execution_count": 13,
   "id": "844fd66d",
   "metadata": {},
   "outputs": [],
   "source": [
    "stock_list = ['510300.SH','510500.SH','513500.SH','513660.SH','511010.SH','511260.SH','518880.SH','510170.SH','159985.SZ']\n",
    "stocks = stock_list\n",
    "num_assets = len(stocks)  # 假设 stocks 是你的资产列表\n",
    "initial_leverage = [1,1,1.5,1,2.5,2.5,1.5,1.5,1.5]\n",
    "stocks_dict = {\n",
    "    'stocks_1': ['518880.SH', '510170.SH','159985.SZ'],\n",
    "    'stocks_2': ['510300.SH', '510500.SH', '513500.SH', '513660.SH', '510170.SH'],\n",
    "    'stocks_3': ['518880.SH','159985.SZ', '511260.SH', '511010.SH'],\n",
    "    'stocks_4': ['510300.SH', '510500.SH', '513500.SH', '513660.SH', '511260.SH', '511010.SH']\n",
    "}\n",
    "\n"
   ]
  },
  {
   "cell_type": "code",
   "execution_count": 14,
   "id": "e60fc720",
   "metadata": {},
   "outputs": [
    {
     "name": "stdout",
     "output_type": "stream",
     "text": [
      "['159985.SZ', '510170.SH', '510300.SH', '510500.SH', '511010.SH', '511260.SH', '513500.SH', '513660.SH', '518880.SH']\n"
     ]
    },
    {
     "data": {
      "application/vnd.jupyter.widget-view+json": {
       "model_id": "13a2eb1b836145f3b6e30d93e4cbe5a6",
       "version_major": 2,
       "version_minor": 0
      },
      "text/plain": [
       "  0%|          | 0/971 [00:00<?, ?it/s]"
      ]
     },
     "metadata": {},
     "output_type": "display_data"
    },
    {
     "data": {
      "application/vnd.jupyter.widget-view+json": {
       "model_id": "f2714570ef21408eb3a11ff7106bc85a",
       "version_major": 2,
       "version_minor": 0
      },
      "text/plain": [
       "  0%|          | 0/971 [00:00<?, ?it/s]"
      ]
     },
     "metadata": {},
     "output_type": "display_data"
    },
    {
     "data": {
      "application/vnd.jupyter.widget-view+json": {
       "model_id": "c749ab252b654b1eaa931a13bd044816",
       "version_major": 2,
       "version_minor": 0
      },
      "text/plain": [
       "  0%|          | 0/971 [00:00<?, ?it/s]"
      ]
     },
     "metadata": {},
     "output_type": "display_data"
    },
    {
     "data": {
      "application/vnd.jupyter.widget-view+json": {
       "model_id": "3a447148ab10460aa6ab977d5939d4dd",
       "version_major": 2,
       "version_minor": 0
      },
      "text/plain": [
       "  0%|          | 0/971 [00:00<?, ?it/s]"
      ]
     },
     "metadata": {},
     "output_type": "display_data"
    },
    {
     "data": {
      "application/vnd.jupyter.widget-view+json": {
       "model_id": "8d6d40f76438451f81b2b3358b4fa8c4",
       "version_major": 2,
       "version_minor": 0
      },
      "text/plain": [
       "  0%|          | 0/971 [00:00<?, ?it/s]"
      ]
     },
     "metadata": {},
     "output_type": "display_data"
    }
   ],
   "source": [
    "data1,codes = calculate_vol(data,initial_leverage,trade_date,vol_day)\n",
    "\n",
    "_, _, date_stocks = supporting_data(data1, trade_date, stocks,vol_day)\n",
    "\n",
    "results = four_quarters(data,trade_date,stocks_dict,vol_day)\n",
    "four_quarter = {}\n",
    "for keys,values in results.items():\n",
    "     for stock,weights in values.items():\n",
    "        if stock in four_quarter.keys():\n",
    "            four_quarter[stock]+= 1/4 * np.array(weights)\n",
    "        else:\n",
    "            four_quarter[stock] = 1/4 * np.array(weights)\n",
    "\n",
    "# 确保顺序一致\n",
    "code_seq = list(date_stocks.values())[0]\n",
    "sorted_data = {code: four_quarter[code] for code in code_seq}\n",
    "four_quarter = sorted_data\n",
    "\n",
    "date_weights =  {date:[] for date in trade_date}\n",
    "for i,date in enumerate(trade_date):\n",
    "    for stock,weights in four_quarter.items():\n",
    "        date_weights[date].append(weights[i])"
   ]
  },
  {
   "cell_type": "code",
   "execution_count": 7,
   "id": "e598dba0",
   "metadata": {
    "scrolled": true
   },
   "outputs": [
    {
     "name": "stdout",
     "output_type": "stream",
     "text": [
      "['159985.SZ', '510170.SH', '510300.SH', '510500.SH', '511010.SH', '511260.SH', '513500.SH', '513660.SH', '518880.SH']\n"
     ]
    },
    {
     "data": {
      "application/vnd.jupyter.widget-view+json": {
       "model_id": "58fb8ce037224f61930e5d90749b50ae",
       "version_major": 2,
       "version_minor": 0
      },
      "text/plain": [
       "  0%|          | 0/971 [00:00<?, ?it/s]"
      ]
     },
     "metadata": {},
     "output_type": "display_data"
    },
    {
     "data": {
      "application/vnd.jupyter.widget-view+json": {
       "model_id": "69896ad02a9d40c3a6d6b769098908a0",
       "version_major": 2,
       "version_minor": 0
      },
      "text/plain": [
       "  0%|          | 0/971 [00:00<?, ?it/s]"
      ]
     },
     "metadata": {},
     "output_type": "display_data"
    },
    {
     "data": {
      "application/vnd.jupyter.widget-view+json": {
       "model_id": "686623962d294b1daaa63ce8a4f588b1",
       "version_major": 2,
       "version_minor": 0
      },
      "text/plain": [
       "  0%|          | 0/971 [00:00<?, ?it/s]"
      ]
     },
     "metadata": {},
     "output_type": "display_data"
    },
    {
     "data": {
      "application/vnd.jupyter.widget-view+json": {
       "model_id": "ac604bd2eabc4e9b97027b68d6778ebb",
       "version_major": 2,
       "version_minor": 0
      },
      "text/plain": [
       "  0%|          | 0/971 [00:00<?, ?it/s]"
      ]
     },
     "metadata": {},
     "output_type": "display_data"
    },
    {
     "data": {
      "application/vnd.jupyter.widget-view+json": {
       "model_id": "f8852a3fd70c4fc9aae73ab26202705f",
       "version_major": 2,
       "version_minor": 0
      },
      "text/plain": [
       "  0%|          | 0/971 [00:00<?, ?it/s]"
      ]
     },
     "metadata": {},
     "output_type": "display_data"
    },
    {
     "data": {
      "application/vnd.jupyter.widget-view+json": {
       "model_id": "4157acb0a51e4db3a0e2824390cc2fea",
       "version_major": 2,
       "version_minor": 0
      },
      "text/plain": [
       "计算日收益:   0%|          | 0/971 [00:00<?, ?it/s]"
      ]
     },
     "metadata": {},
     "output_type": "display_data"
    },
    {
     "name": "stdout",
     "output_type": "stream",
     "text": [
      "['159985.SZ', '510170.SH', '510300.SH', '510500.SH', '511010.SH', '511260.SH', '513500.SH', '513660.SH', '518880.SH']\n"
     ]
    },
    {
     "data": {
      "application/vnd.jupyter.widget-view+json": {
       "model_id": "7b2dd529cc0f443abe4232343e751e0e",
       "version_major": 2,
       "version_minor": 0
      },
      "text/plain": [
       "  0%|          | 0/971 [00:00<?, ?it/s]"
      ]
     },
     "metadata": {},
     "output_type": "display_data"
    },
    {
     "data": {
      "application/vnd.jupyter.widget-view+json": {
       "model_id": "c8a53e0177944291a2474395046f7d8c",
       "version_major": 2,
       "version_minor": 0
      },
      "text/plain": [
       "  0%|          | 0/971 [00:00<?, ?it/s]"
      ]
     },
     "metadata": {},
     "output_type": "display_data"
    },
    {
     "data": {
      "application/vnd.jupyter.widget-view+json": {
       "model_id": "20cd45f45f2f41b9820cf2e8595bbcc2",
       "version_major": 2,
       "version_minor": 0
      },
      "text/plain": [
       "  0%|          | 0/971 [00:00<?, ?it/s]"
      ]
     },
     "metadata": {},
     "output_type": "display_data"
    },
    {
     "data": {
      "application/vnd.jupyter.widget-view+json": {
       "model_id": "d9f2743587304ca99ff65bef40166c64",
       "version_major": 2,
       "version_minor": 0
      },
      "text/plain": [
       "  0%|          | 0/971 [00:00<?, ?it/s]"
      ]
     },
     "metadata": {},
     "output_type": "display_data"
    },
    {
     "data": {
      "application/vnd.jupyter.widget-view+json": {
       "model_id": "e719795e33214da98e48f2f5a6de23e6",
       "version_major": 2,
       "version_minor": 0
      },
      "text/plain": [
       "  0%|          | 0/971 [00:00<?, ?it/s]"
      ]
     },
     "metadata": {},
     "output_type": "display_data"
    },
    {
     "data": {
      "application/vnd.jupyter.widget-view+json": {
       "model_id": "8b39bae0d97c4780a00b47a6fb519712",
       "version_major": 2,
       "version_minor": 0
      },
      "text/plain": [
       "计算日收益:   0%|          | 0/971 [00:00<?, ?it/s]"
      ]
     },
     "metadata": {},
     "output_type": "display_data"
    },
    {
     "name": "stdout",
     "output_type": "stream",
     "text": [
      "['159985.SZ', '510170.SH', '510300.SH', '510500.SH', '511010.SH', '511260.SH', '513500.SH', '513660.SH', '518880.SH']\n"
     ]
    },
    {
     "data": {
      "application/vnd.jupyter.widget-view+json": {
       "model_id": "e9edb89eef014a919a6805a8d125835d",
       "version_major": 2,
       "version_minor": 0
      },
      "text/plain": [
       "  0%|          | 0/971 [00:00<?, ?it/s]"
      ]
     },
     "metadata": {},
     "output_type": "display_data"
    },
    {
     "data": {
      "application/vnd.jupyter.widget-view+json": {
       "model_id": "10b72f5738764f909248c7d2a72afbbc",
       "version_major": 2,
       "version_minor": 0
      },
      "text/plain": [
       "  0%|          | 0/971 [00:00<?, ?it/s]"
      ]
     },
     "metadata": {},
     "output_type": "display_data"
    },
    {
     "data": {
      "application/vnd.jupyter.widget-view+json": {
       "model_id": "4b0601d9dc464414be443c0d3d78c2b2",
       "version_major": 2,
       "version_minor": 0
      },
      "text/plain": [
       "  0%|          | 0/971 [00:00<?, ?it/s]"
      ]
     },
     "metadata": {},
     "output_type": "display_data"
    },
    {
     "data": {
      "application/vnd.jupyter.widget-view+json": {
       "model_id": "0829e9d1582a4067ba2d75932bb43675",
       "version_major": 2,
       "version_minor": 0
      },
      "text/plain": [
       "  0%|          | 0/971 [00:00<?, ?it/s]"
      ]
     },
     "metadata": {},
     "output_type": "display_data"
    },
    {
     "data": {
      "application/vnd.jupyter.widget-view+json": {
       "model_id": "339ac65ebb494361a9c059b1eadfe827",
       "version_major": 2,
       "version_minor": 0
      },
      "text/plain": [
       "  0%|          | 0/971 [00:00<?, ?it/s]"
      ]
     },
     "metadata": {},
     "output_type": "display_data"
    },
    {
     "data": {
      "application/vnd.jupyter.widget-view+json": {
       "model_id": "27f7361367cb4d46a7d5860f3c131ad2",
       "version_major": 2,
       "version_minor": 0
      },
      "text/plain": [
       "计算日收益:   0%|          | 0/971 [00:00<?, ?it/s]"
      ]
     },
     "metadata": {},
     "output_type": "display_data"
    },
    {
     "name": "stdout",
     "output_type": "stream",
     "text": [
      "['159985.SZ', '510170.SH', '510300.SH', '510500.SH', '511010.SH', '511260.SH', '513500.SH', '513660.SH', '518880.SH']\n"
     ]
    },
    {
     "data": {
      "application/vnd.jupyter.widget-view+json": {
       "model_id": "33af026980d2478e880df6debad5a5fe",
       "version_major": 2,
       "version_minor": 0
      },
      "text/plain": [
       "  0%|          | 0/971 [00:00<?, ?it/s]"
      ]
     },
     "metadata": {},
     "output_type": "display_data"
    },
    {
     "data": {
      "application/vnd.jupyter.widget-view+json": {
       "model_id": "22a7ad99adb84728b14e51cd052aacbe",
       "version_major": 2,
       "version_minor": 0
      },
      "text/plain": [
       "  0%|          | 0/971 [00:00<?, ?it/s]"
      ]
     },
     "metadata": {},
     "output_type": "display_data"
    },
    {
     "data": {
      "application/vnd.jupyter.widget-view+json": {
       "model_id": "9ea33cf969c049acafad73e7340715a6",
       "version_major": 2,
       "version_minor": 0
      },
      "text/plain": [
       "  0%|          | 0/971 [00:00<?, ?it/s]"
      ]
     },
     "metadata": {},
     "output_type": "display_data"
    },
    {
     "data": {
      "application/vnd.jupyter.widget-view+json": {
       "model_id": "42e08ba62e714928aab5d4f7fcb12843",
       "version_major": 2,
       "version_minor": 0
      },
      "text/plain": [
       "  0%|          | 0/971 [00:00<?, ?it/s]"
      ]
     },
     "metadata": {},
     "output_type": "display_data"
    },
    {
     "data": {
      "application/vnd.jupyter.widget-view+json": {
       "model_id": "3852f0b3f6a4463aab1f6cd754cceb9f",
       "version_major": 2,
       "version_minor": 0
      },
      "text/plain": [
       "  0%|          | 0/971 [00:00<?, ?it/s]"
      ]
     },
     "metadata": {},
     "output_type": "display_data"
    },
    {
     "data": {
      "application/vnd.jupyter.widget-view+json": {
       "model_id": "7d9468aedfc94f19bf0e4488f41b0d7e",
       "version_major": 2,
       "version_minor": 0
      },
      "text/plain": [
       "计算日收益:   0%|          | 0/971 [00:00<?, ?it/s]"
      ]
     },
     "metadata": {},
     "output_type": "display_data"
    },
    {
     "name": "stdout",
     "output_type": "stream",
     "text": [
      "['159985.SZ', '510170.SH', '510300.SH', '510500.SH', '511010.SH', '511260.SH', '513500.SH', '513660.SH', '518880.SH']\n"
     ]
    },
    {
     "data": {
      "application/vnd.jupyter.widget-view+json": {
       "model_id": "d2d91df7b82448c38bd724b9b0db72ec",
       "version_major": 2,
       "version_minor": 0
      },
      "text/plain": [
       "  0%|          | 0/971 [00:00<?, ?it/s]"
      ]
     },
     "metadata": {},
     "output_type": "display_data"
    },
    {
     "data": {
      "application/vnd.jupyter.widget-view+json": {
       "model_id": "3c945f13e85e4909b8af982ff3160929",
       "version_major": 2,
       "version_minor": 0
      },
      "text/plain": [
       "  0%|          | 0/971 [00:00<?, ?it/s]"
      ]
     },
     "metadata": {},
     "output_type": "display_data"
    },
    {
     "data": {
      "application/vnd.jupyter.widget-view+json": {
       "model_id": "6f4cfffb983e48298adf806dfbd189d9",
       "version_major": 2,
       "version_minor": 0
      },
      "text/plain": [
       "  0%|          | 0/971 [00:00<?, ?it/s]"
      ]
     },
     "metadata": {},
     "output_type": "display_data"
    },
    {
     "data": {
      "application/vnd.jupyter.widget-view+json": {
       "model_id": "1317b2862f0e47fa840d148130d8ef57",
       "version_major": 2,
       "version_minor": 0
      },
      "text/plain": [
       "  0%|          | 0/971 [00:00<?, ?it/s]"
      ]
     },
     "metadata": {},
     "output_type": "display_data"
    },
    {
     "data": {
      "application/vnd.jupyter.widget-view+json": {
       "model_id": "b8470b0963cd4a55ac879ce1b552cb38",
       "version_major": 2,
       "version_minor": 0
      },
      "text/plain": [
       "  0%|          | 0/971 [00:00<?, ?it/s]"
      ]
     },
     "metadata": {},
     "output_type": "display_data"
    },
    {
     "data": {
      "application/vnd.jupyter.widget-view+json": {
       "model_id": "ddb37c8518ed49519af00b71ec02ea71",
       "version_major": 2,
       "version_minor": 0
      },
      "text/plain": [
       "计算日收益:   0%|          | 0/971 [00:00<?, ?it/s]"
      ]
     },
     "metadata": {},
     "output_type": "display_data"
    },
    {
     "name": "stdout",
     "output_type": "stream",
     "text": [
      "['159985.SZ', '510170.SH', '510300.SH', '510500.SH', '511010.SH', '511260.SH', '513500.SH', '513660.SH', '518880.SH']\n"
     ]
    },
    {
     "data": {
      "application/vnd.jupyter.widget-view+json": {
       "model_id": "49433bd11d334fe88f8bd07568c0d34f",
       "version_major": 2,
       "version_minor": 0
      },
      "text/plain": [
       "  0%|          | 0/971 [00:00<?, ?it/s]"
      ]
     },
     "metadata": {},
     "output_type": "display_data"
    },
    {
     "data": {
      "application/vnd.jupyter.widget-view+json": {
       "model_id": "b68adc7e9fe8447ead0cf788df312d72",
       "version_major": 2,
       "version_minor": 0
      },
      "text/plain": [
       "  0%|          | 0/971 [00:00<?, ?it/s]"
      ]
     },
     "metadata": {},
     "output_type": "display_data"
    },
    {
     "data": {
      "application/vnd.jupyter.widget-view+json": {
       "model_id": "0790bc35dc2d4289bd654bea9df92bb8",
       "version_major": 2,
       "version_minor": 0
      },
      "text/plain": [
       "  0%|          | 0/971 [00:00<?, ?it/s]"
      ]
     },
     "metadata": {},
     "output_type": "display_data"
    },
    {
     "data": {
      "application/vnd.jupyter.widget-view+json": {
       "model_id": "283e290107734a87b7a6df952e371073",
       "version_major": 2,
       "version_minor": 0
      },
      "text/plain": [
       "  0%|          | 0/971 [00:00<?, ?it/s]"
      ]
     },
     "metadata": {},
     "output_type": "display_data"
    },
    {
     "data": {
      "application/vnd.jupyter.widget-view+json": {
       "model_id": "921561bfd02a4604b582edba601220c6",
       "version_major": 2,
       "version_minor": 0
      },
      "text/plain": [
       "  0%|          | 0/971 [00:00<?, ?it/s]"
      ]
     },
     "metadata": {},
     "output_type": "display_data"
    },
    {
     "data": {
      "application/vnd.jupyter.widget-view+json": {
       "model_id": "46a57313dcbb4c739cbf6144ab90e39c",
       "version_major": 2,
       "version_minor": 0
      },
      "text/plain": [
       "计算日收益:   0%|          | 0/971 [00:00<?, ?it/s]"
      ]
     },
     "metadata": {},
     "output_type": "display_data"
    },
    {
     "name": "stdout",
     "output_type": "stream",
     "text": [
      "['159985.SZ', '510170.SH', '510300.SH', '510500.SH', '511010.SH', '511260.SH', '513500.SH', '513660.SH', '518880.SH']\n"
     ]
    },
    {
     "data": {
      "application/vnd.jupyter.widget-view+json": {
       "model_id": "f406c64473cd4dc1a0e1920b101eb934",
       "version_major": 2,
       "version_minor": 0
      },
      "text/plain": [
       "  0%|          | 0/971 [00:00<?, ?it/s]"
      ]
     },
     "metadata": {},
     "output_type": "display_data"
    },
    {
     "data": {
      "application/vnd.jupyter.widget-view+json": {
       "model_id": "35828cacc97a471f8ed9bf8fa112456f",
       "version_major": 2,
       "version_minor": 0
      },
      "text/plain": [
       "  0%|          | 0/971 [00:00<?, ?it/s]"
      ]
     },
     "metadata": {},
     "output_type": "display_data"
    },
    {
     "data": {
      "application/vnd.jupyter.widget-view+json": {
       "model_id": "184ffb5f8b3b494aa6cfb9f6153553e9",
       "version_major": 2,
       "version_minor": 0
      },
      "text/plain": [
       "  0%|          | 0/971 [00:00<?, ?it/s]"
      ]
     },
     "metadata": {},
     "output_type": "display_data"
    },
    {
     "data": {
      "application/vnd.jupyter.widget-view+json": {
       "model_id": "4ff9dc7afab2410b90424aed9d17840c",
       "version_major": 2,
       "version_minor": 0
      },
      "text/plain": [
       "  0%|          | 0/971 [00:00<?, ?it/s]"
      ]
     },
     "metadata": {},
     "output_type": "display_data"
    },
    {
     "data": {
      "application/vnd.jupyter.widget-view+json": {
       "model_id": "313356f547054c09822b40b7116733f2",
       "version_major": 2,
       "version_minor": 0
      },
      "text/plain": [
       "  0%|          | 0/971 [00:00<?, ?it/s]"
      ]
     },
     "metadata": {},
     "output_type": "display_data"
    },
    {
     "data": {
      "application/vnd.jupyter.widget-view+json": {
       "model_id": "8bcd46269d88498c94cb2b83219ce144",
       "version_major": 2,
       "version_minor": 0
      },
      "text/plain": [
       "计算日收益:   0%|          | 0/971 [00:00<?, ?it/s]"
      ]
     },
     "metadata": {},
     "output_type": "display_data"
    },
    {
     "name": "stdout",
     "output_type": "stream",
     "text": [
      "['159985.SZ', '510170.SH', '510300.SH', '510500.SH', '511010.SH', '511260.SH', '513500.SH', '513660.SH', '518880.SH']\n"
     ]
    },
    {
     "data": {
      "application/vnd.jupyter.widget-view+json": {
       "model_id": "da7a60107c744172b181c7fa6891912c",
       "version_major": 2,
       "version_minor": 0
      },
      "text/plain": [
       "  0%|          | 0/971 [00:00<?, ?it/s]"
      ]
     },
     "metadata": {},
     "output_type": "display_data"
    },
    {
     "data": {
      "application/vnd.jupyter.widget-view+json": {
       "model_id": "99d3857fe553410fa90e0b0b7a9b3178",
       "version_major": 2,
       "version_minor": 0
      },
      "text/plain": [
       "  0%|          | 0/971 [00:00<?, ?it/s]"
      ]
     },
     "metadata": {},
     "output_type": "display_data"
    },
    {
     "data": {
      "application/vnd.jupyter.widget-view+json": {
       "model_id": "37c7cb7d1b474867b430a0edabe23c92",
       "version_major": 2,
       "version_minor": 0
      },
      "text/plain": [
       "  0%|          | 0/971 [00:00<?, ?it/s]"
      ]
     },
     "metadata": {},
     "output_type": "display_data"
    },
    {
     "data": {
      "application/vnd.jupyter.widget-view+json": {
       "model_id": "417ef3f954e74a9499f40c400e3c4887",
       "version_major": 2,
       "version_minor": 0
      },
      "text/plain": [
       "  0%|          | 0/971 [00:00<?, ?it/s]"
      ]
     },
     "metadata": {},
     "output_type": "display_data"
    },
    {
     "data": {
      "application/vnd.jupyter.widget-view+json": {
       "model_id": "165b9fb61f39445c8fde4594c771cc39",
       "version_major": 2,
       "version_minor": 0
      },
      "text/plain": [
       "  0%|          | 0/971 [00:00<?, ?it/s]"
      ]
     },
     "metadata": {},
     "output_type": "display_data"
    },
    {
     "data": {
      "application/vnd.jupyter.widget-view+json": {
       "model_id": "9e56006c304643c897a8cf17e062d594",
       "version_major": 2,
       "version_minor": 0
      },
      "text/plain": [
       "计算日收益:   0%|          | 0/971 [00:00<?, ?it/s]"
      ]
     },
     "metadata": {},
     "output_type": "display_data"
    },
    {
     "name": "stdout",
     "output_type": "stream",
     "text": [
      "['159985.SZ', '510170.SH', '510300.SH', '510500.SH', '511010.SH', '511260.SH', '513500.SH', '513660.SH', '518880.SH']\n"
     ]
    },
    {
     "data": {
      "application/vnd.jupyter.widget-view+json": {
       "model_id": "89a569441d374a10ad8c28147779d6a0",
       "version_major": 2,
       "version_minor": 0
      },
      "text/plain": [
       "  0%|          | 0/971 [00:00<?, ?it/s]"
      ]
     },
     "metadata": {},
     "output_type": "display_data"
    },
    {
     "data": {
      "application/vnd.jupyter.widget-view+json": {
       "model_id": "715af0802f6847f4a942bd539d1cafc4",
       "version_major": 2,
       "version_minor": 0
      },
      "text/plain": [
       "  0%|          | 0/971 [00:00<?, ?it/s]"
      ]
     },
     "metadata": {},
     "output_type": "display_data"
    },
    {
     "data": {
      "application/vnd.jupyter.widget-view+json": {
       "model_id": "37f0bc3f4ca545e5b63adbd226652f19",
       "version_major": 2,
       "version_minor": 0
      },
      "text/plain": [
       "  0%|          | 0/971 [00:00<?, ?it/s]"
      ]
     },
     "metadata": {},
     "output_type": "display_data"
    },
    {
     "data": {
      "application/vnd.jupyter.widget-view+json": {
       "model_id": "4b07ca9fa0ee40259c94dfdcfe42bd9f",
       "version_major": 2,
       "version_minor": 0
      },
      "text/plain": [
       "  0%|          | 0/971 [00:00<?, ?it/s]"
      ]
     },
     "metadata": {},
     "output_type": "display_data"
    },
    {
     "data": {
      "application/vnd.jupyter.widget-view+json": {
       "model_id": "4f343ec08cb649938b58b14685de9fd1",
       "version_major": 2,
       "version_minor": 0
      },
      "text/plain": [
       "  0%|          | 0/971 [00:00<?, ?it/s]"
      ]
     },
     "metadata": {},
     "output_type": "display_data"
    },
    {
     "data": {
      "application/vnd.jupyter.widget-view+json": {
       "model_id": "64a1c538139444888a1805b4b0da4be3",
       "version_major": 2,
       "version_minor": 0
      },
      "text/plain": [
       "计算日收益:   0%|          | 0/971 [00:00<?, ?it/s]"
      ]
     },
     "metadata": {},
     "output_type": "display_data"
    },
    {
     "name": "stdout",
     "output_type": "stream",
     "text": [
      "['159985.SZ', '510170.SH', '510300.SH', '510500.SH', '511010.SH', '511260.SH', '513500.SH', '513660.SH', '518880.SH']\n"
     ]
    },
    {
     "data": {
      "application/vnd.jupyter.widget-view+json": {
       "model_id": "0b952d92ef4a4a84bf8d2f4e2720aa9d",
       "version_major": 2,
       "version_minor": 0
      },
      "text/plain": [
       "  0%|          | 0/971 [00:00<?, ?it/s]"
      ]
     },
     "metadata": {},
     "output_type": "display_data"
    },
    {
     "data": {
      "application/vnd.jupyter.widget-view+json": {
       "model_id": "8de6fb0d2fb9402b8ecaa07b138dfa38",
       "version_major": 2,
       "version_minor": 0
      },
      "text/plain": [
       "  0%|          | 0/971 [00:00<?, ?it/s]"
      ]
     },
     "metadata": {},
     "output_type": "display_data"
    },
    {
     "data": {
      "application/vnd.jupyter.widget-view+json": {
       "model_id": "bed616ced36346da8eced6193b2cb42c",
       "version_major": 2,
       "version_minor": 0
      },
      "text/plain": [
       "  0%|          | 0/971 [00:00<?, ?it/s]"
      ]
     },
     "metadata": {},
     "output_type": "display_data"
    },
    {
     "data": {
      "application/vnd.jupyter.widget-view+json": {
       "model_id": "1f456a008d2e413eb26eaf48570e81fa",
       "version_major": 2,
       "version_minor": 0
      },
      "text/plain": [
       "  0%|          | 0/971 [00:00<?, ?it/s]"
      ]
     },
     "metadata": {},
     "output_type": "display_data"
    },
    {
     "data": {
      "application/vnd.jupyter.widget-view+json": {
       "model_id": "8e0190a439a14452a9e6711bb84c718b",
       "version_major": 2,
       "version_minor": 0
      },
      "text/plain": [
       "  0%|          | 0/971 [00:00<?, ?it/s]"
      ]
     },
     "metadata": {},
     "output_type": "display_data"
    },
    {
     "data": {
      "application/vnd.jupyter.widget-view+json": {
       "model_id": "147a126ac7fa4fadaed6ef6ae200d0ce",
       "version_major": 2,
       "version_minor": 0
      },
      "text/plain": [
       "计算日收益:   0%|          | 0/971 [00:00<?, ?it/s]"
      ]
     },
     "metadata": {},
     "output_type": "display_data"
    },
    {
     "name": "stderr",
     "output_type": "stream",
     "text": [
      "C:\\Users\\qtx27\\AppData\\Local\\Temp\\ipykernel_27948\\3906140145.py:60: RuntimeWarning: overflow encountered in multiply\n",
      "  stock_earning += net_value * np.array(return_list) * np.array(actual_holdings)\n",
      "C:\\Users\\qtx27\\AppData\\Local\\Temp\\ipykernel_27948\\3906140145.py:60: RuntimeWarning: invalid value encountered in add\n",
      "  stock_earning += net_value * np.array(return_list) * np.array(actual_holdings)\n",
      "C:\\Users\\qtx27\\AppData\\Local\\Temp\\ipykernel_27948\\3906140145.py:93: RuntimeWarning: overflow encountered in scalar multiply\n",
      "  new_values = [net_value * actual * adjusted_return for actual,adjusted_return in zip(actual_holdings,adjusted_returns)]\n",
      "C:\\Users\\qtx27\\AppData\\Local\\Temp\\ipykernel_27948\\3906140145.py:98: RuntimeWarning: invalid value encountered in divide\n",
      "  actual_holdings = new_values/np.sum(new_values)\n"
     ]
    },
    {
     "ename": "ValueError",
     "evalue": "net value is not finite",
     "output_type": "error",
     "traceback": [
      "\u001b[1;31m---------------------------------------------------------------------------\u001b[0m",
      "\u001b[1;31mValueError\u001b[0m                                Traceback (most recent call last)",
      "Cell \u001b[1;32mIn[7], line 39\u001b[0m\n\u001b[0;32m     36\u001b[0m bounds \u001b[38;5;241m=\u001b[39m [(\u001b[38;5;241m1\u001b[39m, \u001b[38;5;241m10\u001b[39m)] \u001b[38;5;241m*\u001b[39m num_assets\n\u001b[0;32m     38\u001b[0m options \u001b[38;5;241m=\u001b[39m {\u001b[38;5;124m'\u001b[39m\u001b[38;5;124mdisp\u001b[39m\u001b[38;5;124m'\u001b[39m: \u001b[38;5;28;01mFalse\u001b[39;00m, \u001b[38;5;124m'\u001b[39m\u001b[38;5;124mmaxiter\u001b[39m\u001b[38;5;124m'\u001b[39m: \u001b[38;5;241m200\u001b[39m, \u001b[38;5;124m'\u001b[39m\u001b[38;5;124mftol\u001b[39m\u001b[38;5;124m'\u001b[39m: \u001b[38;5;241m1e-10\u001b[39m}\n\u001b[1;32m---> 39\u001b[0m result \u001b[38;5;241m=\u001b[39m minimize(negative_sharpe_ratio, initial_leverage, args\u001b[38;5;241m=\u001b[39m(data,date_stocks,date_weights,bond_rate,trade_date,stocks,stocks_dict),\n\u001b[0;32m     40\u001b[0m                   method\u001b[38;5;241m=\u001b[39m\u001b[38;5;124m'\u001b[39m\u001b[38;5;124mSLSQP\u001b[39m\u001b[38;5;124m'\u001b[39m, bounds\u001b[38;5;241m=\u001b[39mbounds, options\u001b[38;5;241m=\u001b[39moptions)\n\u001b[0;32m     42\u001b[0m optimal_leverage \u001b[38;5;241m=\u001b[39m result\u001b[38;5;241m.\u001b[39mx\n\u001b[0;32m     43\u001b[0m max_sharpe_ratio \u001b[38;5;241m=\u001b[39m \u001b[38;5;241m-\u001b[39mresult\u001b[38;5;241m.\u001b[39mfun\n",
      "File \u001b[1;32mD:\\anaconda\\Lib\\site-packages\\scipy\\optimize\\_minimize.py:719\u001b[0m, in \u001b[0;36mminimize\u001b[1;34m(fun, x0, args, method, jac, hess, hessp, bounds, constraints, tol, callback, options)\u001b[0m\n\u001b[0;32m    716\u001b[0m     res \u001b[38;5;241m=\u001b[39m _minimize_cobyla(fun, x0, args, constraints, callback\u001b[38;5;241m=\u001b[39mcallback,\n\u001b[0;32m    717\u001b[0m                            bounds\u001b[38;5;241m=\u001b[39mbounds, \u001b[38;5;241m*\u001b[39m\u001b[38;5;241m*\u001b[39moptions)\n\u001b[0;32m    718\u001b[0m \u001b[38;5;28;01melif\u001b[39;00m meth \u001b[38;5;241m==\u001b[39m \u001b[38;5;124m'\u001b[39m\u001b[38;5;124mslsqp\u001b[39m\u001b[38;5;124m'\u001b[39m:\n\u001b[1;32m--> 719\u001b[0m     res \u001b[38;5;241m=\u001b[39m _minimize_slsqp(fun, x0, args, jac, bounds,\n\u001b[0;32m    720\u001b[0m                           constraints, callback\u001b[38;5;241m=\u001b[39mcallback, \u001b[38;5;241m*\u001b[39m\u001b[38;5;241m*\u001b[39moptions)\n\u001b[0;32m    721\u001b[0m \u001b[38;5;28;01melif\u001b[39;00m meth \u001b[38;5;241m==\u001b[39m \u001b[38;5;124m'\u001b[39m\u001b[38;5;124mtrust-constr\u001b[39m\u001b[38;5;124m'\u001b[39m:\n\u001b[0;32m    722\u001b[0m     res \u001b[38;5;241m=\u001b[39m _minimize_trustregion_constr(fun, x0, args, jac, hess, hessp,\n\u001b[0;32m    723\u001b[0m                                        bounds, constraints,\n\u001b[0;32m    724\u001b[0m                                        callback\u001b[38;5;241m=\u001b[39mcallback, \u001b[38;5;241m*\u001b[39m\u001b[38;5;241m*\u001b[39moptions)\n",
      "File \u001b[1;32mD:\\anaconda\\Lib\\site-packages\\scipy\\optimize\\_slsqp_py.py:374\u001b[0m, in \u001b[0;36m_minimize_slsqp\u001b[1;34m(func, x0, args, jac, bounds, constraints, maxiter, ftol, iprint, disp, eps, callback, finite_diff_rel_step, **unknown_options)\u001b[0m\n\u001b[0;32m    371\u001b[0m     xu[infbnd[:, \u001b[38;5;241m1\u001b[39m]] \u001b[38;5;241m=\u001b[39m np\u001b[38;5;241m.\u001b[39mnan\n\u001b[0;32m    373\u001b[0m \u001b[38;5;66;03m# ScalarFunction provides function and gradient evaluation\u001b[39;00m\n\u001b[1;32m--> 374\u001b[0m sf \u001b[38;5;241m=\u001b[39m _prepare_scalar_function(func, x, jac\u001b[38;5;241m=\u001b[39mjac, args\u001b[38;5;241m=\u001b[39margs, epsilon\u001b[38;5;241m=\u001b[39meps,\n\u001b[0;32m    375\u001b[0m                               finite_diff_rel_step\u001b[38;5;241m=\u001b[39mfinite_diff_rel_step,\n\u001b[0;32m    376\u001b[0m                               bounds\u001b[38;5;241m=\u001b[39mnew_bounds)\n\u001b[0;32m    377\u001b[0m \u001b[38;5;66;03m# gh11403 SLSQP sometimes exceeds bounds by 1 or 2 ULP, make sure this\u001b[39;00m\n\u001b[0;32m    378\u001b[0m \u001b[38;5;66;03m# doesn't get sent to the func/grad evaluator.\u001b[39;00m\n\u001b[0;32m    379\u001b[0m wrapped_fun \u001b[38;5;241m=\u001b[39m _clip_x_for_func(sf\u001b[38;5;241m.\u001b[39mfun, new_bounds)\n",
      "File \u001b[1;32mD:\\anaconda\\Lib\\site-packages\\scipy\\optimize\\_optimize.py:383\u001b[0m, in \u001b[0;36m_prepare_scalar_function\u001b[1;34m(fun, x0, jac, args, bounds, epsilon, finite_diff_rel_step, hess)\u001b[0m\n\u001b[0;32m    379\u001b[0m     bounds \u001b[38;5;241m=\u001b[39m (\u001b[38;5;241m-\u001b[39mnp\u001b[38;5;241m.\u001b[39minf, np\u001b[38;5;241m.\u001b[39minf)\n\u001b[0;32m    381\u001b[0m \u001b[38;5;66;03m# ScalarFunction caches. Reuse of fun(x) during grad\u001b[39;00m\n\u001b[0;32m    382\u001b[0m \u001b[38;5;66;03m# calculation reduces overall function evaluations.\u001b[39;00m\n\u001b[1;32m--> 383\u001b[0m sf \u001b[38;5;241m=\u001b[39m ScalarFunction(fun, x0, args, grad, hess,\n\u001b[0;32m    384\u001b[0m                     finite_diff_rel_step, bounds, epsilon\u001b[38;5;241m=\u001b[39mepsilon)\n\u001b[0;32m    386\u001b[0m \u001b[38;5;28;01mreturn\u001b[39;00m sf\n",
      "File \u001b[1;32mD:\\anaconda\\Lib\\site-packages\\scipy\\optimize\\_differentiable_functions.py:177\u001b[0m, in \u001b[0;36mScalarFunction.__init__\u001b[1;34m(self, fun, x0, args, grad, hess, finite_diff_rel_step, finite_diff_bounds, epsilon)\u001b[0m\n\u001b[0;32m    173\u001b[0m         \u001b[38;5;28mself\u001b[39m\u001b[38;5;241m.\u001b[39mg \u001b[38;5;241m=\u001b[39m approx_derivative(fun_wrapped, \u001b[38;5;28mself\u001b[39m\u001b[38;5;241m.\u001b[39mx, f0\u001b[38;5;241m=\u001b[39m\u001b[38;5;28mself\u001b[39m\u001b[38;5;241m.\u001b[39mf,\n\u001b[0;32m    174\u001b[0m                                    \u001b[38;5;241m*\u001b[39m\u001b[38;5;241m*\u001b[39mfinite_diff_options)\n\u001b[0;32m    176\u001b[0m \u001b[38;5;28mself\u001b[39m\u001b[38;5;241m.\u001b[39m_update_grad_impl \u001b[38;5;241m=\u001b[39m update_grad\n\u001b[1;32m--> 177\u001b[0m \u001b[38;5;28mself\u001b[39m\u001b[38;5;241m.\u001b[39m_update_grad()\n\u001b[0;32m    179\u001b[0m \u001b[38;5;66;03m# Hessian Evaluation\u001b[39;00m\n\u001b[0;32m    180\u001b[0m \u001b[38;5;28;01mif\u001b[39;00m \u001b[38;5;28mcallable\u001b[39m(hess):\n",
      "File \u001b[1;32mD:\\anaconda\\Lib\\site-packages\\scipy\\optimize\\_differentiable_functions.py:256\u001b[0m, in \u001b[0;36mScalarFunction._update_grad\u001b[1;34m(self)\u001b[0m\n\u001b[0;32m    254\u001b[0m \u001b[38;5;28;01mdef\u001b[39;00m \u001b[38;5;21m_update_grad\u001b[39m(\u001b[38;5;28mself\u001b[39m):\n\u001b[0;32m    255\u001b[0m     \u001b[38;5;28;01mif\u001b[39;00m \u001b[38;5;129;01mnot\u001b[39;00m \u001b[38;5;28mself\u001b[39m\u001b[38;5;241m.\u001b[39mg_updated:\n\u001b[1;32m--> 256\u001b[0m         \u001b[38;5;28mself\u001b[39m\u001b[38;5;241m.\u001b[39m_update_grad_impl()\n\u001b[0;32m    257\u001b[0m         \u001b[38;5;28mself\u001b[39m\u001b[38;5;241m.\u001b[39mg_updated \u001b[38;5;241m=\u001b[39m \u001b[38;5;28;01mTrue\u001b[39;00m\n",
      "File \u001b[1;32mD:\\anaconda\\Lib\\site-packages\\scipy\\optimize\\_differentiable_functions.py:173\u001b[0m, in \u001b[0;36mScalarFunction.__init__.<locals>.update_grad\u001b[1;34m()\u001b[0m\n\u001b[0;32m    171\u001b[0m \u001b[38;5;28mself\u001b[39m\u001b[38;5;241m.\u001b[39m_update_fun()\n\u001b[0;32m    172\u001b[0m \u001b[38;5;28mself\u001b[39m\u001b[38;5;241m.\u001b[39mngev \u001b[38;5;241m+\u001b[39m\u001b[38;5;241m=\u001b[39m \u001b[38;5;241m1\u001b[39m\n\u001b[1;32m--> 173\u001b[0m \u001b[38;5;28mself\u001b[39m\u001b[38;5;241m.\u001b[39mg \u001b[38;5;241m=\u001b[39m approx_derivative(fun_wrapped, \u001b[38;5;28mself\u001b[39m\u001b[38;5;241m.\u001b[39mx, f0\u001b[38;5;241m=\u001b[39m\u001b[38;5;28mself\u001b[39m\u001b[38;5;241m.\u001b[39mf,\n\u001b[0;32m    174\u001b[0m                            \u001b[38;5;241m*\u001b[39m\u001b[38;5;241m*\u001b[39mfinite_diff_options)\n",
      "File \u001b[1;32mD:\\anaconda\\Lib\\site-packages\\scipy\\optimize\\_numdiff.py:505\u001b[0m, in \u001b[0;36mapprox_derivative\u001b[1;34m(fun, x0, method, rel_step, abs_step, f0, bounds, sparsity, as_linear_operator, args, kwargs)\u001b[0m\n\u001b[0;32m    502\u001b[0m     use_one_sided \u001b[38;5;241m=\u001b[39m \u001b[38;5;28;01mFalse\u001b[39;00m\n\u001b[0;32m    504\u001b[0m \u001b[38;5;28;01mif\u001b[39;00m sparsity \u001b[38;5;129;01mis\u001b[39;00m \u001b[38;5;28;01mNone\u001b[39;00m:\n\u001b[1;32m--> 505\u001b[0m     \u001b[38;5;28;01mreturn\u001b[39;00m _dense_difference(fun_wrapped, x0, f0, h,\n\u001b[0;32m    506\u001b[0m                              use_one_sided, method)\n\u001b[0;32m    507\u001b[0m \u001b[38;5;28;01melse\u001b[39;00m:\n\u001b[0;32m    508\u001b[0m     \u001b[38;5;28;01mif\u001b[39;00m \u001b[38;5;129;01mnot\u001b[39;00m issparse(sparsity) \u001b[38;5;129;01mand\u001b[39;00m \u001b[38;5;28mlen\u001b[39m(sparsity) \u001b[38;5;241m==\u001b[39m \u001b[38;5;241m2\u001b[39m:\n",
      "File \u001b[1;32mD:\\anaconda\\Lib\\site-packages\\scipy\\optimize\\_numdiff.py:576\u001b[0m, in \u001b[0;36m_dense_difference\u001b[1;34m(fun, x0, f0, h, use_one_sided, method)\u001b[0m\n\u001b[0;32m    574\u001b[0m     x \u001b[38;5;241m=\u001b[39m x0 \u001b[38;5;241m+\u001b[39m h_vecs[i]\n\u001b[0;32m    575\u001b[0m     dx \u001b[38;5;241m=\u001b[39m x[i] \u001b[38;5;241m-\u001b[39m x0[i]  \u001b[38;5;66;03m# Recompute dx as exactly representable number.\u001b[39;00m\n\u001b[1;32m--> 576\u001b[0m     df \u001b[38;5;241m=\u001b[39m fun(x) \u001b[38;5;241m-\u001b[39m f0\n\u001b[0;32m    577\u001b[0m \u001b[38;5;28;01melif\u001b[39;00m method \u001b[38;5;241m==\u001b[39m \u001b[38;5;124m'\u001b[39m\u001b[38;5;124m3-point\u001b[39m\u001b[38;5;124m'\u001b[39m \u001b[38;5;129;01mand\u001b[39;00m use_one_sided[i]:\n\u001b[0;32m    578\u001b[0m     x1 \u001b[38;5;241m=\u001b[39m x0 \u001b[38;5;241m+\u001b[39m h_vecs[i]\n",
      "File \u001b[1;32mD:\\anaconda\\Lib\\site-packages\\scipy\\optimize\\_numdiff.py:456\u001b[0m, in \u001b[0;36mapprox_derivative.<locals>.fun_wrapped\u001b[1;34m(x)\u001b[0m\n\u001b[0;32m    455\u001b[0m \u001b[38;5;28;01mdef\u001b[39;00m \u001b[38;5;21mfun_wrapped\u001b[39m(x):\n\u001b[1;32m--> 456\u001b[0m     f \u001b[38;5;241m=\u001b[39m np\u001b[38;5;241m.\u001b[39matleast_1d(fun(x, \u001b[38;5;241m*\u001b[39margs, \u001b[38;5;241m*\u001b[39m\u001b[38;5;241m*\u001b[39mkwargs))\n\u001b[0;32m    457\u001b[0m     \u001b[38;5;28;01mif\u001b[39;00m f\u001b[38;5;241m.\u001b[39mndim \u001b[38;5;241m>\u001b[39m \u001b[38;5;241m1\u001b[39m:\n\u001b[0;32m    458\u001b[0m         \u001b[38;5;28;01mraise\u001b[39;00m \u001b[38;5;167;01mRuntimeError\u001b[39;00m(\u001b[38;5;124m\"\u001b[39m\u001b[38;5;124m`fun` return value has \u001b[39m\u001b[38;5;124m\"\u001b[39m\n\u001b[0;32m    459\u001b[0m                            \u001b[38;5;124m\"\u001b[39m\u001b[38;5;124mmore than 1 dimension.\u001b[39m\u001b[38;5;124m\"\u001b[39m)\n",
      "File \u001b[1;32mD:\\anaconda\\Lib\\site-packages\\scipy\\optimize\\_differentiable_functions.py:137\u001b[0m, in \u001b[0;36mScalarFunction.__init__.<locals>.fun_wrapped\u001b[1;34m(x)\u001b[0m\n\u001b[0;32m    133\u001b[0m \u001b[38;5;28mself\u001b[39m\u001b[38;5;241m.\u001b[39mnfev \u001b[38;5;241m+\u001b[39m\u001b[38;5;241m=\u001b[39m \u001b[38;5;241m1\u001b[39m\n\u001b[0;32m    134\u001b[0m \u001b[38;5;66;03m# Send a copy because the user may overwrite it.\u001b[39;00m\n\u001b[0;32m    135\u001b[0m \u001b[38;5;66;03m# Overwriting results in undefined behaviour because\u001b[39;00m\n\u001b[0;32m    136\u001b[0m \u001b[38;5;66;03m# fun(self.x) will change self.x, with the two no longer linked.\u001b[39;00m\n\u001b[1;32m--> 137\u001b[0m fx \u001b[38;5;241m=\u001b[39m fun(np\u001b[38;5;241m.\u001b[39mcopy(x), \u001b[38;5;241m*\u001b[39margs)\n\u001b[0;32m    138\u001b[0m \u001b[38;5;66;03m# Make sure the function returns a true scalar\u001b[39;00m\n\u001b[0;32m    139\u001b[0m \u001b[38;5;28;01mif\u001b[39;00m \u001b[38;5;129;01mnot\u001b[39;00m np\u001b[38;5;241m.\u001b[39misscalar(fx):\n",
      "Cell \u001b[1;32mIn[7], line 32\u001b[0m, in \u001b[0;36mnegative_sharpe_ratio\u001b[1;34m(leverage, data, date_stocks, date_weights, bond_rate, trade_date, stocks, stocks_dict)\u001b[0m\n\u001b[0;32m     31\u001b[0m \u001b[38;5;28;01mdef\u001b[39;00m \u001b[38;5;21mnegative_sharpe_ratio\u001b[39m(leverage,data,date_stocks,date_weights,bond_rate,trade_date,stocks,stocks_dict):\n\u001b[1;32m---> 32\u001b[0m     \u001b[38;5;28;01mreturn\u001b[39;00m \u001b[38;5;241m-\u001b[39msharpe_ratio(leverage,data,date_stocks,date_weights,bond_rate,trade_date,stocks,stocks_dict)\n",
      "Cell \u001b[1;32mIn[7], line 25\u001b[0m, in \u001b[0;36msharpe_ratio\u001b[1;34m(initial_leverage, data, date_stocks, date_weights, bond_rate, trade_date, stocks, stocks_dict)\u001b[0m\n\u001b[0;32m     22\u001b[0m     \u001b[38;5;28;01mfor\u001b[39;00m stock,weights \u001b[38;5;129;01min\u001b[39;00m four_quarter\u001b[38;5;241m.\u001b[39mitems():\n\u001b[0;32m     23\u001b[0m         date_weights[date]\u001b[38;5;241m.\u001b[39mappend(weights[i])\n\u001b[1;32m---> 25\u001b[0m daily_returns,net_values,position_change,holdings_diffs,stock_earnings,stock_list \u001b[38;5;241m=\u001b[39m calculate_daily_returns(initial_leverage,data1,date_stocks,date_weights,\u001b[38;5;241m1e6\u001b[39m,\u001b[38;5;241m0.00015\u001b[39m,\u001b[38;5;241m0.04\u001b[39m,bond_rate,trade_date)\n\u001b[0;32m     26\u001b[0m daily_returns \u001b[38;5;241m=\u001b[39m pd\u001b[38;5;241m.\u001b[39mSeries(daily_returns)\n\u001b[0;32m     27\u001b[0m cumulative_returns \u001b[38;5;241m=\u001b[39m (\u001b[38;5;241m1\u001b[39m \u001b[38;5;241m+\u001b[39m daily_returns)\u001b[38;5;241m.\u001b[39mcumprod() \u001b[38;5;241m-\u001b[39m \u001b[38;5;241m1\u001b[39m\n",
      "Cell \u001b[1;32mIn[3], line 55\u001b[0m, in \u001b[0;36mcalculate_daily_returns\u001b[1;34m(leverage_list, df, date_stocks, date_weights, initial_capital, fee_rate, deviate_rate, bond_rate, trade_date)\u001b[0m\n\u001b[0;32m     53\u001b[0m     stock_earning \u001b[38;5;241m=\u001b[39m np\u001b[38;5;241m.\u001b[39mzeros(\u001b[38;5;28mlen\u001b[39m(return_list))\n\u001b[0;32m     54\u001b[0m \u001b[38;5;28;01mif\u001b[39;00m \u001b[38;5;129;01mnot\u001b[39;00m np\u001b[38;5;241m.\u001b[39misfinite(net_value):\n\u001b[1;32m---> 55\u001b[0m     \u001b[38;5;28;01mraise\u001b[39;00m \u001b[38;5;167;01mValueError\u001b[39;00m(\u001b[38;5;124m\"\u001b[39m\u001b[38;5;124mnet value is not finite\u001b[39m\u001b[38;5;124m\"\u001b[39m)\n\u001b[0;32m     57\u001b[0m \u001b[38;5;28;01mif\u001b[39;00m \u001b[38;5;129;01mnot\u001b[39;00m np\u001b[38;5;241m.\u001b[39mall(np\u001b[38;5;241m.\u001b[39misfinite(return_list)) \u001b[38;5;129;01mor\u001b[39;00m \u001b[38;5;129;01mnot\u001b[39;00m np\u001b[38;5;241m.\u001b[39mall(np\u001b[38;5;241m.\u001b[39misfinite(actual_holdings)):\n\u001b[0;32m     58\u001b[0m     \u001b[38;5;28;01mraise\u001b[39;00m \u001b[38;5;167;01mValueError\u001b[39;00m(\u001b[38;5;124m\"\u001b[39m\u001b[38;5;124mReturn list or actual holdings contain non-finite values\u001b[39m\u001b[38;5;124m\"\u001b[39m)\n",
      "\u001b[1;31mValueError\u001b[0m: net value is not finite"
     ]
    }
   ],
   "source": [
    "def sharpe_ratio(initial_leverage,data,date_stocks,date_weights,bond_rate,trade_date,stocks,stocks_dict):\n",
    "    \n",
    "    data1,codes = calculate_vol(data,initial_leverage,trade_date,vol_day)\n",
    "    _, _, date_stocks = supporting_data(data1, trade_date, stocks,vol_day)\n",
    "\n",
    "    results = four_quarters(data1,trade_date,stocks_dict,vol_day)\n",
    "    four_quarter = {}\n",
    "    for keys,values in results.items():\n",
    "        for stock,weights in values.items():\n",
    "            if stock in four_quarter.keys():\n",
    "                four_quarter[stock]+= 1/4 * np.array(weights)\n",
    "            else:\n",
    "                four_quarter[stock] = 1/4 * np.array(weights)\n",
    "\n",
    "    # 确保顺序一致\n",
    "    code_seq = list(date_stocks.values())[0]\n",
    "    sorted_data = {code: four_quarter[code] for code in code_seq}\n",
    "    four_quarter = sorted_data\n",
    "\n",
    "    date_weights =  {date:[] for date in trade_date}\n",
    "    for i,date in enumerate(trade_date):\n",
    "        for stock,weights in four_quarter.items():\n",
    "            date_weights[date].append(weights[i])\n",
    "        \n",
    "    daily_returns,net_values,position_change,holdings_diffs,stock_earnings,stock_list = calculate_daily_returns(initial_leverage,data1,date_stocks,date_weights,1e6,0.00015,0.04,bond_rate,trade_date)\n",
    "    daily_returns = pd.Series(daily_returns)\n",
    "    cumulative_returns = (1 + daily_returns).cumprod() - 1\n",
    "    #sharpe_ratio = daily_returns.mean() / daily_returns.std()* np.sqrt(252)\n",
    "    return cumulative_returns.iloc[-1]\n",
    "\n",
    "def negative_sharpe_ratio(leverage,data,date_stocks,date_weights,bond_rate,trade_date,stocks,stocks_dict):\n",
    "    return -sharpe_ratio(leverage,data,date_stocks,date_weights,bond_rate,trade_date,stocks,stocks_dict)\n",
    "\n",
    "\n",
    "    \n",
    "bounds = [(1, 10)] * num_assets\n",
    "\n",
    "options = {'disp': False, 'maxiter': 200, 'ftol': 1e-10}\n",
    "result = minimize(negative_sharpe_ratio, initial_leverage, args=(data,date_stocks,date_weights,bond_rate,trade_date,stocks,stocks_dict),\n",
    "                  method='SLSQP', bounds=bounds, options=options)\n",
    "\n",
    "optimal_leverage = result.x\n",
    "max_sharpe_ratio = -result.fun\n",
    "\n",
    "print(\"Optimal Leverages:\", optimal_leverage)\n",
    "print(\"Maximum Sharpe Ratio:\", max_sharpe_ratio)"
   ]
  },
  {
   "cell_type": "code",
   "execution_count": 17,
   "id": "bb908f7a",
   "metadata": {},
   "outputs": [
    {
     "name": "stdout",
     "output_type": "stream",
     "text": [
      "['159985.SZ', '510170.SH', '510300.SH', '510500.SH', '511010.SH', '511260.SH', '513500.SH', '513660.SH', '518880.SH']\n"
     ]
    },
    {
     "data": {
      "application/vnd.jupyter.widget-view+json": {
       "model_id": "7f63745ba33748cc8d627dcb5b16792e",
       "version_major": 2,
       "version_minor": 0
      },
      "text/plain": [
       "  0%|          | 0/971 [00:00<?, ?it/s]"
      ]
     },
     "metadata": {},
     "output_type": "display_data"
    },
    {
     "data": {
      "application/vnd.jupyter.widget-view+json": {
       "model_id": "2ac1f9915bbb4a128e0b09b8069145e7",
       "version_major": 2,
       "version_minor": 0
      },
      "text/plain": [
       "  0%|          | 0/971 [00:00<?, ?it/s]"
      ]
     },
     "metadata": {},
     "output_type": "display_data"
    },
    {
     "data": {
      "application/vnd.jupyter.widget-view+json": {
       "model_id": "e830b22771aa484a95f2c5d8fbfecac0",
       "version_major": 2,
       "version_minor": 0
      },
      "text/plain": [
       "  0%|          | 0/971 [00:00<?, ?it/s]"
      ]
     },
     "metadata": {},
     "output_type": "display_data"
    },
    {
     "data": {
      "application/vnd.jupyter.widget-view+json": {
       "model_id": "b1d857f4cfd24080b50492a0273a91fe",
       "version_major": 2,
       "version_minor": 0
      },
      "text/plain": [
       "  0%|          | 0/971 [00:00<?, ?it/s]"
      ]
     },
     "metadata": {},
     "output_type": "display_data"
    },
    {
     "data": {
      "application/vnd.jupyter.widget-view+json": {
       "model_id": "22e772c88a084dc793f2a34b15a43d19",
       "version_major": 2,
       "version_minor": 0
      },
      "text/plain": [
       "  0%|          | 0/971 [00:00<?, ?it/s]"
      ]
     },
     "metadata": {},
     "output_type": "display_data"
    },
    {
     "data": {
      "application/vnd.jupyter.widget-view+json": {
       "model_id": "387dc063b6fc4c2dbbbcd637b5667319",
       "version_major": 2,
       "version_minor": 0
      },
      "text/plain": [
       "计算日收益:   0%|          | 0/971 [00:00<?, ?it/s]"
      ]
     },
     "metadata": {},
     "output_type": "display_data"
    },
    {
     "ename": "ValueError",
     "evalue": "operands could not be broadcast together with shapes (10,) (9,) ",
     "output_type": "error",
     "traceback": [
      "\u001b[1;31m---------------------------------------------------------------------------\u001b[0m",
      "\u001b[1;31mValueError\u001b[0m                                Traceback (most recent call last)",
      "Cell \u001b[1;32mIn[17], line 56\u001b[0m\n\u001b[0;32m     52\u001b[0m \u001b[38;5;66;03m# 假设这些数据已经初始化：data, date_stocks, date_weights, bond_rate, trade_date, stocks, stocks_dict, vol_day\u001b[39;00m\n\u001b[0;32m     53\u001b[0m \n\u001b[0;32m     54\u001b[0m \u001b[38;5;66;03m# 训练\u001b[39;00m\n\u001b[0;32m     55\u001b[0m \u001b[38;5;28;01mfor\u001b[39;00m i \u001b[38;5;129;01min\u001b[39;00m \u001b[38;5;28mrange\u001b[39m(\u001b[38;5;241m200\u001b[39m):  \u001b[38;5;66;03m# 迭代次数\u001b[39;00m\n\u001b[1;32m---> 56\u001b[0m     loss \u001b[38;5;241m=\u001b[39m train_step()\n\u001b[0;32m     57\u001b[0m     \u001b[38;5;28;01mif\u001b[39;00m i \u001b[38;5;241m%\u001b[39m \u001b[38;5;241m10\u001b[39m \u001b[38;5;241m==\u001b[39m \u001b[38;5;241m0\u001b[39m:\n\u001b[0;32m     58\u001b[0m         \u001b[38;5;28mprint\u001b[39m(\u001b[38;5;124mf\u001b[39m\u001b[38;5;124m\"\u001b[39m\u001b[38;5;124mStep \u001b[39m\u001b[38;5;132;01m{\u001b[39;00mi\u001b[38;5;132;01m}\u001b[39;00m\u001b[38;5;124m, Loss: \u001b[39m\u001b[38;5;132;01m{\u001b[39;00mloss\u001b[38;5;241m.\u001b[39mnumpy()\u001b[38;5;132;01m}\u001b[39;00m\u001b[38;5;124m\"\u001b[39m)\n",
      "Cell \u001b[1;32mIn[17], line 41\u001b[0m, in \u001b[0;36mtrain_step\u001b[1;34m()\u001b[0m\n\u001b[0;32m     39\u001b[0m leverage_numpy \u001b[38;5;241m=\u001b[39m initial_leverage\u001b[38;5;241m.\u001b[39mnumpy()\n\u001b[0;32m     40\u001b[0m \u001b[38;5;28;01mwith\u001b[39;00m tf\u001b[38;5;241m.\u001b[39mGradientTape() \u001b[38;5;28;01mas\u001b[39;00m tape:\n\u001b[1;32m---> 41\u001b[0m     loss \u001b[38;5;241m=\u001b[39m negative_sharpe_ratio(leverage_numpy, data, date_stocks, date_weights, bond_rate, trade_date, stocks, stocks_dict, vol_day)\n\u001b[0;32m     42\u001b[0m gradients \u001b[38;5;241m=\u001b[39m tape\u001b[38;5;241m.\u001b[39mgradient(loss, [initial_leverage])\n\u001b[0;32m     43\u001b[0m optimizer\u001b[38;5;241m.\u001b[39mapply_gradients(\u001b[38;5;28mzip\u001b[39m(gradients, [initial_leverage]))\n",
      "Cell \u001b[1;32mIn[17], line 36\u001b[0m, in \u001b[0;36mnegative_sharpe_ratio\u001b[1;34m(leverage_numpy, data, date_stocks, date_weights, bond_rate, trade_date, stocks, stocks_dict, vol_day)\u001b[0m\n\u001b[0;32m     35\u001b[0m \u001b[38;5;28;01mdef\u001b[39;00m \u001b[38;5;21mnegative_sharpe_ratio\u001b[39m(leverage_numpy, data, date_stocks, date_weights, bond_rate, trade_date, stocks, stocks_dict, vol_day):\n\u001b[1;32m---> 36\u001b[0m     \u001b[38;5;28;01mreturn\u001b[39;00m \u001b[38;5;241m-\u001b[39msharpe_ratio(leverage_numpy, data, date_stocks, date_weights, bond_rate, trade_date, stocks, stocks_dict, vol_day)\n",
      "Cell \u001b[1;32mIn[17], line 29\u001b[0m, in \u001b[0;36msharpe_ratio\u001b[1;34m(leverage_numpy, data, date_stocks, date_weights, bond_rate, trade_date, stocks, stocks_dict, vol_day)\u001b[0m\n\u001b[0;32m     26\u001b[0m     \u001b[38;5;28;01mfor\u001b[39;00m stock, weights \u001b[38;5;129;01min\u001b[39;00m four_quarter\u001b[38;5;241m.\u001b[39mitems():\n\u001b[0;32m     27\u001b[0m         date_weights[date]\u001b[38;5;241m.\u001b[39mappend(weights[i])\n\u001b[1;32m---> 29\u001b[0m daily_returns, _, _, _, _, _ \u001b[38;5;241m=\u001b[39m calculate_daily_returns(leverage_numpy, data1, date_stocks, date_weights, \u001b[38;5;241m1e6\u001b[39m, \u001b[38;5;241m0.00015\u001b[39m, \u001b[38;5;241m0.04\u001b[39m, bond_rate, trade_date)\n\u001b[0;32m     30\u001b[0m daily_returns \u001b[38;5;241m=\u001b[39m pd\u001b[38;5;241m.\u001b[39mSeries(daily_returns)\n\u001b[0;32m     31\u001b[0m cumulative_returns \u001b[38;5;241m=\u001b[39m (\u001b[38;5;241m1\u001b[39m \u001b[38;5;241m+\u001b[39m daily_returns)\u001b[38;5;241m.\u001b[39mcumprod() \u001b[38;5;241m-\u001b[39m \u001b[38;5;241m1\u001b[39m\n",
      "Cell \u001b[1;32mIn[11], line 46\u001b[0m, in \u001b[0;36mcalculate_daily_returns\u001b[1;34m(leverage_list, df, date_stocks, date_weights, initial_capital, fee_rate, deviate_rate, bond_rate, trade_date)\u001b[0m\n\u001b[0;32m     41\u001b[0m         return_ \u001b[38;5;241m=\u001b[39m \u001b[38;5;241m0\u001b[39m \u001b[38;5;241m-\u001b[39m free_rate\n\u001b[0;32m     42\u001b[0m         return_list\u001b[38;5;241m.\u001b[39mappend(return_)\n\u001b[1;32m---> 46\u001b[0m multiplied_result \u001b[38;5;241m=\u001b[39mnp\u001b[38;5;241m.\u001b[39marray(leverage_list) \u001b[38;5;241m*\u001b[39m np\u001b[38;5;241m.\u001b[39marray(return_list)\n\u001b[0;32m     47\u001b[0m free_rate_array \u001b[38;5;241m=\u001b[39m np\u001b[38;5;241m.\u001b[39mfull_like(multiplied_result, free_rate)\n\u001b[0;32m     48\u001b[0m return_list \u001b[38;5;241m=\u001b[39m multiplied_result \u001b[38;5;241m+\u001b[39m free_rate_array\n",
      "\u001b[1;31mValueError\u001b[0m: operands could not be broadcast together with shapes (10,) (9,) "
     ]
    }
   ],
   "source": [
    "import tensorflow as tf\n",
    "import numpy as np\n",
    "import pandas as pd\n",
    "\n",
    "# 定义Sharpe比率函数，适应TensorFlow操作\n",
    "def sharpe_ratio(leverage_numpy, data, date_stocks, date_weights, bond_rate, trade_date, stocks, stocks_dict, vol_day):\n",
    "    # 使用 leverage_numpy 而不是 leverage\n",
    "    data1, codes = calculate_vol(data, leverage_numpy, trade_date, vol_day)\n",
    "    _, _, date_stocks = supporting_data(data1, trade_date, stocks, vol_day)\n",
    "\n",
    "    results = four_quarters(data1, trade_date, stocks_dict, vol_day)\n",
    "    four_quarter = {}\n",
    "    for keys, values in results.items():\n",
    "        for stock, weights in values.items():\n",
    "            if stock in four_quarter.keys():\n",
    "                four_quarter[stock] += 1/4 * np.array(weights)\n",
    "            else:\n",
    "                four_quarter[stock] = 1/4 * np.array(weights)\n",
    "\n",
    "    code_seq = list(date_stocks.values())[0]\n",
    "    sorted_data = {code: four_quarter[code] for code in code_seq}\n",
    "    four_quarter = sorted_data\n",
    "\n",
    "    date_weights = {date: [] for date in trade_date}\n",
    "    for i, date in enumerate(trade_date):\n",
    "        for stock, weights in four_quarter.items():\n",
    "            date_weights[date].append(weights[i])\n",
    "    \n",
    "    daily_returns, _, _, _, _, _ = calculate_daily_returns(leverage_numpy, data1, date_stocks, date_weights, 1e6, 0.00015, 0.04, bond_rate, trade_date)\n",
    "    daily_returns = pd.Series(daily_returns)\n",
    "    cumulative_returns = (1 + daily_returns).cumprod() - 1\n",
    "    \n",
    "    return cumulative_returns.iloc[-1]\n",
    "\n",
    "def negative_sharpe_ratio(leverage_numpy, data, date_stocks, date_weights, bond_rate, trade_date, stocks, stocks_dict, vol_day):\n",
    "    return -sharpe_ratio(leverage_numpy, data, date_stocks, date_weights, bond_rate, trade_date, stocks, stocks_dict, vol_day)\n",
    "\n",
    "def train_step():\n",
    "    leverage_numpy = initial_leverage.numpy()\n",
    "    with tf.GradientTape() as tape:\n",
    "        loss = negative_sharpe_ratio(leverage_numpy, data, date_stocks, date_weights, bond_rate, trade_date, stocks, stocks_dict, vol_day)\n",
    "    gradients = tape.gradient(loss, [initial_leverage])\n",
    "    optimizer.apply_gradients(zip(gradients, [initial_leverage]))\n",
    "    return loss\n",
    "\n",
    "# 初始化变量\n",
    "num_assets = 10  # 假设有10个资产，你需要根据实际情况调整\n",
    "initial_leverage = [1.0] * num_assets\n",
    "initial_leverage = tf.Variable(initial_leverage, dtype=tf.float32)\n",
    "optimizer = tf.optimizers.Adam(learning_rate=0.01)\n",
    "\n",
    "# 假设这些数据已经初始化：data, date_stocks, date_weights, bond_rate, trade_date, stocks, stocks_dict, vol_day\n",
    "\n",
    "# 训练\n",
    "for i in range(200):  # 迭代次数\n",
    "    loss = train_step()\n",
    "    if i % 10 == 0:\n",
    "        print(f\"Step {i}, Loss: {loss.numpy()}\")\n",
    "\n",
    "optimal_leverage = initial_leverage.numpy()\n",
    "max_sharpe_ratio = -loss.numpy()\n",
    "\n",
    "print(\"Optimal Leverages:\", optimal_leverage)\n",
    "print(\"Maximum Sharpe Ratio:\", max_sharpe_ratio)"
   ]
  },
  {
   "cell_type": "code",
   "execution_count": null,
   "id": "55289e78",
   "metadata": {},
   "outputs": [],
   "source": []
  }
 ],
 "metadata": {
  "kernelspec": {
   "display_name": "Python 3 (ipykernel)",
   "language": "python",
   "name": "python3"
  },
  "language_info": {
   "codemirror_mode": {
    "name": "ipython",
    "version": 3
   },
   "file_extension": ".py",
   "mimetype": "text/x-python",
   "name": "python",
   "nbconvert_exporter": "python",
   "pygments_lexer": "ipython3",
   "version": "3.11.5"
  }
 },
 "nbformat": 4,
 "nbformat_minor": 5
}
