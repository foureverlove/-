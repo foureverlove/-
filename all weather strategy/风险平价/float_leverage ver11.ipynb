{
 "cells": [
  {
   "cell_type": "markdown",
   "id": "b4113569",
   "metadata": {},
   "source": [
    "\"\"\"\n",
    "理论来源：\n",
    "1. https://xueqiu.com/1795556147/150797873\n",
    "2. all weather strategy\n",
    "\n",
    "\"\"\""
   ]
  },
  {
   "cell_type": "code",
   "execution_count": 1,
   "id": "d59f060c",
   "metadata": {},
   "outputs": [],
   "source": [
    "import pandas as pd\n",
    "from datetime import timedelta\n",
    "from tqdm.auto import tqdm\n",
    "import numpy as np\n",
    "import tushare as ts\n",
    "from backtest_utils import *\n",
    "import matplotlib.pyplot as plt\n",
    "import matplotlib.dates as mdates\n",
    "import copy\n",
    "tqdm.pandas()\n",
    "ts.set_token('6ddb307225c1b26eaabecc4e76561c9305d5bcad10bb6b882a3e63df')\n",
    "pro = ts.pro_api()\n",
    "start_dt = '20191201'\n",
    "end_dt = '20240701'\n",
    "test_dt = '20200701'"
   ]
  },
  {
   "cell_type": "code",
   "execution_count": 2,
   "id": "32a76fd1",
   "metadata": {},
   "outputs": [],
   "source": [
    "data = pd.DataFrame()\n",
    "stock_list = ['510300.SH','510500.SH','513500.SH','513660.SH','511010.SH','511260.SH','518880.SH','510170.SH','159985.SZ']\n",
    "stocks = stock_list\n",
    "for stock in stock_list:\n",
    "    df = pro.fund_daily(ts_code=stock, start_date=start_dt, end_date=end_dt)\n",
    "    data  = pd.concat([data, df], ignore_index=True)\n",
    "\n",
    "data.to_csv(\"etf.csv\")\n",
    "data = pd.read_csv('etf.csv')\n",
    "data = data.sort_values(by = ['ts_code','trade_date'],ascending = True)\n",
    "data['pct_chg']=data['pct_chg']/100\n",
    "original_data = data"
   ]
  },
  {
   "cell_type": "code",
   "execution_count": 3,
   "id": "fb58be4e",
   "metadata": {},
   "outputs": [
    {
     "data": {
      "text/plain": [
       "0      20200701\n",
       "1      20200702\n",
       "2      20200703\n",
       "3      20200706\n",
       "4      20200707\n",
       "         ...   \n",
       "966    20240625\n",
       "967    20240626\n",
       "968    20240627\n",
       "969    20240628\n",
       "970    20240701\n",
       "Name: cal_date, Length: 971, dtype: object"
      ]
     },
     "execution_count": 3,
     "metadata": {},
     "output_type": "execute_result"
    }
   ],
   "source": [
    "trade_cal_SSE = pro.trade_cal(exchange='SSE', start_date=test_dt, end_date=end_dt, is_open=1)\n",
    "trade_date = trade_cal_SSE['cal_date']\n",
    "trade_date = trade_date[::-1]\n",
    "trade_date.to_csv('trade_dates.csv', index=False)\n",
    "trade_date = pd.read_csv('trade_dates.csv')\n",
    "trade_date = trade_date['cal_date'].astype(str)\n",
    "trade_date"
   ]
  },
  {
   "cell_type": "code",
   "execution_count": 4,
   "id": "651e2fee",
   "metadata": {},
   "outputs": [
    {
     "data": {
      "text/html": [
       "<div>\n",
       "<style scoped>\n",
       "    .dataframe tbody tr th:only-of-type {\n",
       "        vertical-align: middle;\n",
       "    }\n",
       "\n",
       "    .dataframe tbody tr th {\n",
       "        vertical-align: top;\n",
       "    }\n",
       "\n",
       "    .dataframe thead th {\n",
       "        text-align: right;\n",
       "    }\n",
       "</style>\n",
       "<table border=\"1\" class=\"dataframe\">\n",
       "  <thead>\n",
       "    <tr style=\"text-align: right;\">\n",
       "      <th></th>\n",
       "      <th>Unnamed: 0</th>\n",
       "      <th>ts_code</th>\n",
       "      <th>trade_date</th>\n",
       "      <th>pre_close</th>\n",
       "      <th>open</th>\n",
       "      <th>high</th>\n",
       "      <th>low</th>\n",
       "      <th>close</th>\n",
       "      <th>change</th>\n",
       "      <th>pct_chg</th>\n",
       "      <th>vol</th>\n",
       "      <th>amount</th>\n",
       "    </tr>\n",
       "  </thead>\n",
       "  <tbody>\n",
       "    <tr>\n",
       "      <th>9983</th>\n",
       "      <td>9983</td>\n",
       "      <td>159985.SZ</td>\n",
       "      <td>20191205</td>\n",
       "      <td>0.983</td>\n",
       "      <td>0.983</td>\n",
       "      <td>0.995</td>\n",
       "      <td>0.978</td>\n",
       "      <td>0.986</td>\n",
       "      <td>0.003</td>\n",
       "      <td>0.003052</td>\n",
       "      <td>122256.57</td>\n",
       "      <td>12005.606</td>\n",
       "    </tr>\n",
       "    <tr>\n",
       "      <th>9982</th>\n",
       "      <td>9982</td>\n",
       "      <td>159985.SZ</td>\n",
       "      <td>20191206</td>\n",
       "      <td>0.986</td>\n",
       "      <td>0.993</td>\n",
       "      <td>0.996</td>\n",
       "      <td>0.982</td>\n",
       "      <td>0.984</td>\n",
       "      <td>-0.002</td>\n",
       "      <td>-0.002028</td>\n",
       "      <td>281011.46</td>\n",
       "      <td>27811.112</td>\n",
       "    </tr>\n",
       "    <tr>\n",
       "      <th>9981</th>\n",
       "      <td>9981</td>\n",
       "      <td>159985.SZ</td>\n",
       "      <td>20191209</td>\n",
       "      <td>0.984</td>\n",
       "      <td>0.986</td>\n",
       "      <td>0.993</td>\n",
       "      <td>0.986</td>\n",
       "      <td>0.988</td>\n",
       "      <td>0.004</td>\n",
       "      <td>0.004065</td>\n",
       "      <td>110016.32</td>\n",
       "      <td>10891.210</td>\n",
       "    </tr>\n",
       "    <tr>\n",
       "      <th>9980</th>\n",
       "      <td>9980</td>\n",
       "      <td>159985.SZ</td>\n",
       "      <td>20191210</td>\n",
       "      <td>0.988</td>\n",
       "      <td>0.987</td>\n",
       "      <td>0.990</td>\n",
       "      <td>0.984</td>\n",
       "      <td>0.987</td>\n",
       "      <td>-0.001</td>\n",
       "      <td>-0.001012</td>\n",
       "      <td>53524.05</td>\n",
       "      <td>5283.263</td>\n",
       "    </tr>\n",
       "    <tr>\n",
       "      <th>9979</th>\n",
       "      <td>9979</td>\n",
       "      <td>159985.SZ</td>\n",
       "      <td>20191211</td>\n",
       "      <td>0.987</td>\n",
       "      <td>0.991</td>\n",
       "      <td>0.995</td>\n",
       "      <td>0.989</td>\n",
       "      <td>0.992</td>\n",
       "      <td>0.005</td>\n",
       "      <td>0.005066</td>\n",
       "      <td>135801.31</td>\n",
       "      <td>13472.875</td>\n",
       "    </tr>\n",
       "    <tr>\n",
       "      <th>...</th>\n",
       "      <td>...</td>\n",
       "      <td>...</td>\n",
       "      <td>...</td>\n",
       "      <td>...</td>\n",
       "      <td>...</td>\n",
       "      <td>...</td>\n",
       "      <td>...</td>\n",
       "      <td>...</td>\n",
       "      <td>...</td>\n",
       "      <td>...</td>\n",
       "      <td>...</td>\n",
       "      <td>...</td>\n",
       "    </tr>\n",
       "    <tr>\n",
       "      <th>6663</th>\n",
       "      <td>6663</td>\n",
       "      <td>518880.SH</td>\n",
       "      <td>20240625</td>\n",
       "      <td>5.290</td>\n",
       "      <td>5.300</td>\n",
       "      <td>5.303</td>\n",
       "      <td>5.292</td>\n",
       "      <td>5.302</td>\n",
       "      <td>0.012</td>\n",
       "      <td>0.002268</td>\n",
       "      <td>2849134.00</td>\n",
       "      <td>1509273.578</td>\n",
       "    </tr>\n",
       "    <tr>\n",
       "      <th>6662</th>\n",
       "      <td>6662</td>\n",
       "      <td>518880.SH</td>\n",
       "      <td>20240626</td>\n",
       "      <td>5.302</td>\n",
       "      <td>5.287</td>\n",
       "      <td>5.287</td>\n",
       "      <td>5.253</td>\n",
       "      <td>5.271</td>\n",
       "      <td>-0.031</td>\n",
       "      <td>-0.005847</td>\n",
       "      <td>3337006.00</td>\n",
       "      <td>1758334.548</td>\n",
       "    </tr>\n",
       "    <tr>\n",
       "      <th>6661</th>\n",
       "      <td>6661</td>\n",
       "      <td>518880.SH</td>\n",
       "      <td>20240627</td>\n",
       "      <td>5.271</td>\n",
       "      <td>5.236</td>\n",
       "      <td>5.245</td>\n",
       "      <td>5.231</td>\n",
       "      <td>5.242</td>\n",
       "      <td>-0.029</td>\n",
       "      <td>-0.005502</td>\n",
       "      <td>2674882.00</td>\n",
       "      <td>1401342.548</td>\n",
       "    </tr>\n",
       "    <tr>\n",
       "      <th>6660</th>\n",
       "      <td>6660</td>\n",
       "      <td>518880.SH</td>\n",
       "      <td>20240628</td>\n",
       "      <td>5.242</td>\n",
       "      <td>5.283</td>\n",
       "      <td>5.299</td>\n",
       "      <td>5.277</td>\n",
       "      <td>5.297</td>\n",
       "      <td>0.055</td>\n",
       "      <td>0.010492</td>\n",
       "      <td>2758656.00</td>\n",
       "      <td>1458430.077</td>\n",
       "    </tr>\n",
       "    <tr>\n",
       "      <th>6659</th>\n",
       "      <td>6659</td>\n",
       "      <td>518880.SH</td>\n",
       "      <td>20240701</td>\n",
       "      <td>5.297</td>\n",
       "      <td>5.297</td>\n",
       "      <td>5.303</td>\n",
       "      <td>5.281</td>\n",
       "      <td>5.299</td>\n",
       "      <td>0.002</td>\n",
       "      <td>0.000378</td>\n",
       "      <td>1512313.00</td>\n",
       "      <td>801004.633</td>\n",
       "    </tr>\n",
       "  </tbody>\n",
       "</table>\n",
       "<p>9984 rows × 12 columns</p>\n",
       "</div>"
      ],
      "text/plain": [
       "      Unnamed: 0    ts_code  trade_date  pre_close   open   high    low  \\\n",
       "9983        9983  159985.SZ    20191205      0.983  0.983  0.995  0.978   \n",
       "9982        9982  159985.SZ    20191206      0.986  0.993  0.996  0.982   \n",
       "9981        9981  159985.SZ    20191209      0.984  0.986  0.993  0.986   \n",
       "9980        9980  159985.SZ    20191210      0.988  0.987  0.990  0.984   \n",
       "9979        9979  159985.SZ    20191211      0.987  0.991  0.995  0.989   \n",
       "...          ...        ...         ...        ...    ...    ...    ...   \n",
       "6663        6663  518880.SH    20240625      5.290  5.300  5.303  5.292   \n",
       "6662        6662  518880.SH    20240626      5.302  5.287  5.287  5.253   \n",
       "6661        6661  518880.SH    20240627      5.271  5.236  5.245  5.231   \n",
       "6660        6660  518880.SH    20240628      5.242  5.283  5.299  5.277   \n",
       "6659        6659  518880.SH    20240701      5.297  5.297  5.303  5.281   \n",
       "\n",
       "      close  change   pct_chg         vol       amount  \n",
       "9983  0.986   0.003  0.003052   122256.57    12005.606  \n",
       "9982  0.984  -0.002 -0.002028   281011.46    27811.112  \n",
       "9981  0.988   0.004  0.004065   110016.32    10891.210  \n",
       "9980  0.987  -0.001 -0.001012    53524.05     5283.263  \n",
       "9979  0.992   0.005  0.005066   135801.31    13472.875  \n",
       "...     ...     ...       ...         ...          ...  \n",
       "6663  5.302   0.012  0.002268  2849134.00  1509273.578  \n",
       "6662  5.271  -0.031 -0.005847  3337006.00  1758334.548  \n",
       "6661  5.242  -0.029 -0.005502  2674882.00  1401342.548  \n",
       "6660  5.297   0.055  0.010492  2758656.00  1458430.077  \n",
       "6659  5.299   0.002  0.000378  1512313.00   801004.633  \n",
       "\n",
       "[9984 rows x 12 columns]"
      ]
     },
     "execution_count": 4,
     "metadata": {},
     "output_type": "execute_result"
    }
   ],
   "source": [
    "data"
   ]
  },
  {
   "cell_type": "code",
   "execution_count": 5,
   "id": "8afcbbad",
   "metadata": {},
   "outputs": [
    {
     "ename": "TypeError",
     "evalue": "calculate_vol() missing 1 required positional argument: 'vol_day'",
     "output_type": "error",
     "traceback": [
      "\u001b[1;31m---------------------------------------------------------------------------\u001b[0m",
      "\u001b[1;31mTypeError\u001b[0m                                 Traceback (most recent call last)",
      "Cell \u001b[1;32mIn[5], line 2\u001b[0m\n\u001b[0;32m      1\u001b[0m \u001b[38;5;66;03m#加杠杆\u001b[39;00m\n\u001b[1;32m----> 2\u001b[0m data,leverage \u001b[38;5;241m=\u001b[39m calculate_vol(data,\u001b[38;5;241m0.004\u001b[39m,trade_date)\n",
      "\u001b[1;31mTypeError\u001b[0m: calculate_vol() missing 1 required positional argument: 'vol_day'"
     ]
    }
   ],
   "source": [
    "#加杠杆\n",
    "data,leverage = calculate_vol(data,0.004,trade_date)"
   ]
  },
  {
   "cell_type": "code",
   "execution_count": null,
   "id": "a889a8b5",
   "metadata": {},
   "outputs": [],
   "source": [
    "print(leverage)"
   ]
  },
  {
   "cell_type": "code",
   "execution_count": null,
   "id": "362fc319",
   "metadata": {},
   "outputs": [],
   "source": [
    "\n",
    "stock_list = ['510300.SH','510500.SH','513500.SH','513660.SH','511010.SH','511260.SH','518880.SH','510170.SH','159985.SZ']\n",
    "stocks = stock_list\n",
    "_, _, date_stocks = supporting_data(data, trade_date, stocks)\n",
    "stocks_dict = {\n",
    "    'stocks_1': ['518880.SH', '510170.SH','159985.SZ'],\n",
    "    'stocks_2': ['510300.SH', '510500.SH', '513500.SH', '513660.SH', '510170.SH'],\n",
    "    'stocks_3': ['518880.SH','159985.SZ', '511260.SH', '511010.SH'],\n",
    "    'stocks_4': ['510300.SH', '510500.SH', '513500.SH', '513660.SH', '511260.SH', '511010.SH']\n",
    "}\n",
    "\n",
    "#test 数据，结果应与fixed一样\n",
    "\"\"\"\n",
    "stock_list = ['510300.SH', '510500.SH', '513500.SH', '513100.SH', '511260.SH', '511010.SH', '510170.SH','518880.SH','510410.SH']\n",
    "stocks = stock_list\n",
    "_, _, date_stocks = supporting_data(data, trade_date, stocks)\n",
    "stocks_dict = {\n",
    "    'stocks_1': ['510300.SH', '510500.SH', '513500.SH', '513100.SH', '511260.SH', '511010.SH', '510170.SH','518880.SH','510410.SH'],\n",
    "    'stocks_2': ['510300.SH', '510500.SH', '513500.SH', '513100.SH', '511260.SH', '511010.SH', '510170.SH','518880.SH','510410.SH'],\n",
    "    'stocks_3': ['510300.SH', '510500.SH', '513500.SH', '513100.SH', '511260.SH', '511010.SH', '510170.SH','518880.SH','510410.SH'],\n",
    "    'stocks_4': ['510300.SH', '510500.SH', '513500.SH', '513100.SH', '511260.SH', '511010.SH', '510170.SH','518880.SH','510410.SH']\n",
    "}\n",
    "\n",
    "\"\"\"\n",
    "\n",
    "results = four_quarters(data,trade_date,stocks_dict)\n"
   ]
  },
  {
   "cell_type": "code",
   "execution_count": null,
   "id": "70ffbcc4",
   "metadata": {},
   "outputs": [],
   "source": [
    "date_stocks"
   ]
  },
  {
   "cell_type": "code",
   "execution_count": null,
   "id": "5cc025f2",
   "metadata": {
    "scrolled": true
   },
   "outputs": [],
   "source": [
    "four_quarters = {}\n",
    "for keys,values in results.items():\n",
    "    for stock,weights in values.items():\n",
    "        if stock in four_quarters.keys():\n",
    "            four_quarters[stock]+= 1/4 * np.array(weights)\n",
    "        else:\n",
    "            four_quarters[stock] = 1/4 * np.array(weights)\n",
    "            \n",
    "# 确保顺序一致\n",
    "code_seq = list(date_stocks.values())[0]\n",
    "sorted_data = {code: four_quarters[code] for code in code_seq}\n",
    "four_quarters = sorted_data"
   ]
  },
  {
   "cell_type": "code",
   "execution_count": null,
   "id": "ee14ace2",
   "metadata": {},
   "outputs": [],
   "source": [
    "four_quarters"
   ]
  },
  {
   "cell_type": "code",
   "execution_count": null,
   "id": "371eb174",
   "metadata": {},
   "outputs": [],
   "source": [
    "#计算 date_weights\n",
    "date_weights =  {date:[] for date in trade_date}\n",
    "for i,date in enumerate(trade_date):\n",
    "    for stock,weights in four_quarters.items():\n",
    "        date_weights[date].append(weights[i])\n"
   ]
  },
  {
   "cell_type": "code",
   "execution_count": null,
   "id": "1245a737",
   "metadata": {},
   "outputs": [],
   "source": [
    "date_weights"
   ]
  },
  {
   "cell_type": "code",
   "execution_count": null,
   "id": "6f32e809",
   "metadata": {},
   "outputs": [],
   "source": [
    "date_stocks"
   ]
  },
  {
   "cell_type": "code",
   "execution_count": null,
   "id": "aca8edcc",
   "metadata": {},
   "outputs": [],
   "source": [
    "#初始资金、交易费率、偏离换仓参数\n",
    "#注：原收益率未除100，calculate_daily_returns除以了100\n",
    "daily_returns,net_values,position_change,holdings_diffs,stock_daily_returns = calculate_daily_returns(data,date_stocks,date_weights,1e6,0.00015,0.06,leverage,bond_rate)"
   ]
  },
  {
   "cell_type": "code",
   "execution_count": null,
   "id": "be045d2e",
   "metadata": {},
   "outputs": [],
   "source": [
    "trade_date = pd.to_datetime(trade_date, format='%Y%m%d')\n",
    "plt.plot(trade_date,holdings_diffs,label=stocks)\n",
    "plt.title('Holdings_difference')\n",
    "plt.xlabel('Days')\n",
    "plt.ylabel('Deviation')\n",
    "plt.grid(True)\n",
    "plt.legend()\n",
    "plt.show()"
   ]
  },
  {
   "cell_type": "code",
   "execution_count": null,
   "id": "607966b2",
   "metadata": {
    "scrolled": false
   },
   "outputs": [],
   "source": [
    "plt.figure(figsize=(14, 7))\n",
    "for stock, weights in four_quarters.items():\n",
    "    plt.plot(trade_date, weights, label=stock)\n",
    "plt.legend(title='Stock')\n",
    "\n",
    "for change_date in position_change:\n",
    "    change_date = pd.to_datetime(change_date, format = '%Y%m%d')\n",
    "    plt.axvline(change_date, color='red', linestyle='--', linewidth=1)\n",
    "# 添加标题和轴标签\n",
    "plt.title('Daily Stock Holding Proportions')\n",
    "plt.xlabel('Date')\n",
    "plt.ylabel('Holding Proportion')\n",
    "plt.grid(True)\n",
    "\n",
    "plt.savefig('stock_holdings_proportions_5.png', format='png', dpi=300)\n",
    "# 显示图表\n",
    "plt.show()"
   ]
  },
  {
   "cell_type": "code",
   "execution_count": null,
   "id": "bc3a789b",
   "metadata": {
    "scrolled": false
   },
   "outputs": [],
   "source": [
    "plot_cumulative_returns(daily_returns,trade_date)"
   ]
  },
  {
   "cell_type": "code",
   "execution_count": null,
   "id": "cd3b63c4",
   "metadata": {},
   "outputs": [],
   "source": [
    "win_rate, sharpe_ratio, max_drawdown = calculate_performance_metrics(daily_returns)\n",
    "\n",
    "print(f\"Win Rate: {win_rate}\")\n",
    "print(f\"Sharpe Ratio: {sharpe_ratio}\")\n",
    "print(f\"Max Drawdown: {max_drawdown}\")"
   ]
  },
  {
   "cell_type": "code",
   "execution_count": null,
   "id": "d599ec3c",
   "metadata": {},
   "outputs": [],
   "source": [
    "data =pd.read_csv('etf.csv')\n",
    "plot_etf_returns(data,test_dt)"
   ]
  },
  {
   "cell_type": "code",
   "execution_count": null,
   "id": "dae30e34",
   "metadata": {},
   "outputs": [],
   "source": []
  }
 ],
 "metadata": {
  "kernelspec": {
   "display_name": "Python 3 (ipykernel)",
   "language": "python",
   "name": "python3"
  },
  "language_info": {
   "codemirror_mode": {
    "name": "ipython",
    "version": 3
   },
   "file_extension": ".py",
   "mimetype": "text/x-python",
   "name": "python",
   "nbconvert_exporter": "python",
   "pygments_lexer": "ipython3",
   "version": "3.11.5"
  }
 },
 "nbformat": 4,
 "nbformat_minor": 5
}
