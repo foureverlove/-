{
 "cells": [
  {
   "cell_type": "code",
   "execution_count": 4,
   "id": "41e03531",
   "metadata": {},
   "outputs": [
    {
     "name": "stdout",
     "output_type": "stream",
     "text": [
      "Optimal Leverages: [10.          3.03786108  1.        ]\n",
      "Maximum Sharpe Ratio: 2.676072461443488\n"
     ]
    }
   ],
   "source": [
    "import numpy as np\n",
    "from scipy.optimize import minimize\n",
    "\n",
    "# 示例数据：预期收益和协方差矩阵\n",
    "expected_returns = np.array([0.12, 0.10, 0.08])\n",
    "cov_matrix = np.array([[0.005, -0.010, 0.004],\n",
    "                       [-0.010, 0.040, -0.002],\n",
    "                       [0.004, -0.002, 0.023]])\n",
    "risk_free_rate = 0.03\n",
    "optimal_weights = np.array([0.4, 0.4, 0.2])  # 假设已经有了最优权重组合\n",
    "\n",
    "def sharpe_ratio(leverage, weights, expected_returns, cov_matrix, risk_free_rate):\n",
    "    leveraged_weights = leverage * weights\n",
    "    portfolio_return = np.sum(leveraged_weights * expected_returns)\n",
    "    portfolio_volatility = np.sqrt(np.dot(leveraged_weights.T, np.dot(cov_matrix, leveraged_weights)))\n",
    "    return (portfolio_return - risk_free_rate) / portfolio_volatility\n",
    "\n",
    "def negative_sharpe_ratio(leverage, weights, expected_returns, cov_matrix, risk_free_rate):\n",
    "    return -sharpe_ratio(leverage, weights, expected_returns, cov_matrix, risk_free_rate)\n",
    "\n",
    "# 初始杠杆\n",
    "num_assets = len(expected_returns)\n",
    "initial_leverage = np.ones(num_assets)\n",
    "\n",
    "# 边界条件：每个资产的杠杆范围在1到10之间\n",
    "bounds = [(1, 10) for _ in range(num_assets)]\n",
    "\n",
    "# 优化\n",
    "result = minimize(negative_sharpe_ratio, initial_leverage, args=(optimal_weights, expected_returns, cov_matrix, risk_free_rate),\n",
    "                  method='SLSQP', bounds=bounds)\n",
    "\n",
    "optimal_leverage = result.x\n",
    "max_sharpe_ratio = -result.fun\n",
    "\n",
    "print(\"Optimal Leverages:\", optimal_leverage)\n",
    "print(\"Maximum Sharpe Ratio:\", max_sharpe_ratio)\n"
   ]
  },
  {
   "cell_type": "code",
   "execution_count": 5,
   "id": "4243b0f3",
   "metadata": {},
   "outputs": [
    {
     "data": {
      "text/plain": [
       "array([10.        ,  3.03786108,  1.        ])"
      ]
     },
     "execution_count": 5,
     "metadata": {},
     "output_type": "execute_result"
    }
   ],
   "source": [
    "optimal_leverage"
   ]
  },
  {
   "cell_type": "code",
   "execution_count": null,
   "id": "0e0d66b3",
   "metadata": {},
   "outputs": [],
   "source": []
  }
 ],
 "metadata": {
  "kernelspec": {
   "display_name": "Python 3 (ipykernel)",
   "language": "python",
   "name": "python3"
  },
  "language_info": {
   "codemirror_mode": {
    "name": "ipython",
    "version": 3
   },
   "file_extension": ".py",
   "mimetype": "text/x-python",
   "name": "python",
   "nbconvert_exporter": "python",
   "pygments_lexer": "ipython3",
   "version": "3.11.5"
  }
 },
 "nbformat": 4,
 "nbformat_minor": 5
}
